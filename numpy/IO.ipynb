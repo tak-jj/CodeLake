{
 "cells": [
  {
   "attachments": {},
   "cell_type": "markdown",
   "metadata": {},
   "source": [
    "# **Numpy Input Output**"
   ]
  },
  {
   "cell_type": "code",
   "execution_count": 2,
   "metadata": {},
   "outputs": [],
   "source": [
    "import numpy as np"
   ]
  },
  {
   "cell_type": "code",
   "execution_count": 3,
   "metadata": {},
   "outputs": [
    {
     "name": "stdout",
     "output_type": "stream",
     "text": [
      "[0 1 2 3 4 5 6 7 8 9]\n"
     ]
    }
   ],
   "source": [
    "# np.save(file_name, arr)\n",
    "# 배열을 .npy 파일로 저장한다.\n",
    "# save array as .npy file.\n",
    "a = np.arange(10)\n",
    "print(a)"
   ]
  },
  {
   "cell_type": "code",
   "execution_count": 4,
   "metadata": {},
   "outputs": [],
   "source": [
    "np.save('./test01.npy', a)"
   ]
  },
  {
   "cell_type": "code",
   "execution_count": 5,
   "metadata": {},
   "outputs": [],
   "source": [
    "# np.savez(file_name, arr...)\n",
    "# 여러 배열을 하나의 파일로 저장한다. (.npz)\n",
    "# save several arrays into one file. (.npz)\n",
    "a1 = np.arange(5)\n",
    "a2 = np.eye(3,3)\n",
    "\n",
    "np.savez('./test02.npz', a1, a2)"
   ]
  },
  {
   "cell_type": "code",
   "execution_count": 6,
   "metadata": {},
   "outputs": [
    {
     "name": "stdout",
     "output_type": "stream",
     "text": [
      "[0 1 2 3 4 5 6 7 8 9]\n"
     ]
    }
   ],
   "source": [
    "# np.load(file_name)\n",
    "# 저장한 배열을 불러온다.\n",
    "# load saved array.\n",
    "a_load1 = np.load('./test01.npy')\n",
    "\n",
    "print(a_load1)"
   ]
  },
  {
   "cell_type": "code",
   "execution_count": 7,
   "metadata": {},
   "outputs": [
    {
     "name": "stdout",
     "output_type": "stream",
     "text": [
      "['arr_0', 'arr_1']\n"
     ]
    }
   ],
   "source": [
    "a_load2 = np.load('./test02.npz')\n",
    "\n",
    "print(a_load2.files)"
   ]
  },
  {
   "cell_type": "code",
   "execution_count": 8,
   "metadata": {},
   "outputs": [
    {
     "name": "stdout",
     "output_type": "stream",
     "text": [
      "[0 1 2 3 4]\n",
      "[[1. 0. 0.]\n",
      " [0. 1. 0.]\n",
      " [0. 0. 1.]]\n"
     ]
    }
   ],
   "source": [
    "print(a_load2['arr_0'])\n",
    "print(a_load2['arr_1'])"
   ]
  },
  {
   "cell_type": "code",
   "execution_count": 9,
   "metadata": {},
   "outputs": [],
   "source": [
    "# np.savetxt()\n",
    "# 배열을 txt 파일로 저장한다.\n",
    "# save array as txt file.\n",
    "a = np.arange(5)\n",
    "\n",
    "np.savetxt('./test03.txt', a, delimiter=',')"
   ]
  },
  {
   "cell_type": "code",
   "execution_count": 10,
   "metadata": {},
   "outputs": [
    {
     "name": "stdout",
     "output_type": "stream",
     "text": [
      "[0. 1. 2. 3. 4.]\n"
     ]
    }
   ],
   "source": [
    "# np.loadtxt()\n",
    "# txt 파일을 불러온다.\n",
    "# load txt file.\n",
    "a = np.loadtxt('./test03.txt', dtype=np.float64, delimiter=',')\n",
    "\n",
    "print(a)"
   ]
  },
  {
   "cell_type": "code",
   "execution_count": 11,
   "metadata": {},
   "outputs": [],
   "source": [
    "# np.genfromtxt()\n",
    "# txt 파일을 불러온다. 빈 값에 대해 처리가 가능하다.\n",
    "# load txt file. can handle empty value.\n",
    "with open('test04.txt', 'w') as f:\n",
    "    f.write(\n",
    "        '''\n",
    "        1, 2, 3\n",
    "        4,,6\n",
    "        7, 8, 9\n",
    "        '''\n",
    "    )"
   ]
  },
  {
   "cell_type": "code",
   "execution_count": 12,
   "metadata": {},
   "outputs": [
    {
     "name": "stdout",
     "output_type": "stream",
     "text": [
      "[[ 1.  2.  3.]\n",
      " [ 4. nan  6.]\n",
      " [ 7.  8.  9.]]\n"
     ]
    }
   ],
   "source": [
    "a = np.genfromtxt('test04.txt', delimiter=',')\n",
    "\n",
    "print(a)\n",
    "# np.load()를 사용할 경우 오류가 발생한다. // error occur if use np.load()."
   ]
  },
  {
   "cell_type": "code",
   "execution_count": 13,
   "metadata": {},
   "outputs": [
    {
     "data": {
      "text/plain": [
       "-1"
      ]
     },
     "execution_count": 13,
     "metadata": {},
     "output_type": "execute_result"
    }
   ],
   "source": [
    "# 이미지 파일 배열로 저장, 불러오기\n",
    "# save, load image file as array\n",
    "import cv2\n",
    "import os\n",
    "\n",
    "image_gray = cv2.imread('../sample_img.jpg', 0)\n",
    "image_color = cv2.imread('../sample_img.jpg', 1)\n",
    "\n",
    "cv2.imshow('gray', image_gray)\n",
    "cv2.imshow('color', image_color)\n",
    "cv2.waitKey(0)"
   ]
  },
  {
   "cell_type": "code",
   "execution_count": 14,
   "metadata": {},
   "outputs": [
    {
     "name": "stdout",
     "output_type": "stream",
     "text": [
      "1440502\n",
      "1068145\n"
     ]
    }
   ],
   "source": [
    "np.savez('./image.npz', arr1 = image_gray, arr2 = image_color)\n",
    "np.savez_compressed('./image_compressed.npz', arr1 = image_gray, arr2 = image_color)\n",
    "\n",
    "print(os.path.getsize('./image.npz'))\n",
    "print(os.path.getsize('./image_compressed.npz'))"
   ]
  },
  {
   "cell_type": "code",
   "execution_count": 15,
   "metadata": {},
   "outputs": [
    {
     "data": {
      "text/plain": [
       "-1"
      ]
     },
     "execution_count": 15,
     "metadata": {},
     "output_type": "execute_result"
    }
   ],
   "source": [
    "data = np.load('./image_compressed.npz')\n",
    "result1 = data['arr1']\n",
    "result2 = data['arr2']\n",
    "\n",
    "cv2.imshow('result1', result1)\n",
    "cv2.imshow('result2', result2)\n",
    "cv2.waitKey(0)"
   ]
  },
  {
   "cell_type": "code",
   "execution_count": null,
   "metadata": {},
   "outputs": [],
   "source": []
  }
 ],
 "metadata": {
  "kernelspec": {
   "display_name": "AI",
   "language": "python",
   "name": "python3"
  },
  "language_info": {
   "codemirror_mode": {
    "name": "ipython",
    "version": 3
   },
   "file_extension": ".py",
   "mimetype": "text/x-python",
   "name": "python",
   "nbconvert_exporter": "python",
   "pygments_lexer": "ipython3",
   "version": "3.10.9"
  },
  "orig_nbformat": 4,
  "vscode": {
   "interpreter": {
    "hash": "0f0ed69c08a8e206ba0f1cc166c3629e9f9774ceb6fc47d9c87f87e453960e77"
   }
  }
 },
 "nbformat": 4,
 "nbformat_minor": 2
}

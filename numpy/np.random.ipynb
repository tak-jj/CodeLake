{
 "cells": [
  {
   "attachments": {},
   "cell_type": "markdown",
   "metadata": {},
   "source": [
    "# **Random**"
   ]
  },
  {
   "cell_type": "code",
   "execution_count": 2,
   "metadata": {},
   "outputs": [],
   "source": [
    "import numpy as np"
   ]
  },
  {
   "cell_type": "code",
   "execution_count": 3,
   "metadata": {},
   "outputs": [
    {
     "name": "stdout",
     "output_type": "stream",
     "text": [
      "[0.56546869 0.98577464 0.85760786 0.80288199 0.66576114]\n",
      "[[0.58223284 0.88750466 0.036148  ]\n",
      " [0.24370437 0.49354387 0.32140345]]\n"
     ]
    }
   ],
   "source": [
    "# np.random.rand()\n",
    "# 0에서 1사이의 랜덤한 값으로 찬 주어진 형태의 배열을 반환한다. \n",
    "# return array of given shape filled with random value between 0 and 1.\n",
    "a1 = np.random.rand(5)\n",
    "a2  = np.random.rand(2,3)\n",
    "\n",
    "print(a1)\n",
    "print(a2)"
   ]
  },
  {
   "cell_type": "code",
   "execution_count": 4,
   "metadata": {},
   "outputs": [
    {
     "name": "stdout",
     "output_type": "stream",
     "text": [
      "[ 1.81402849 -0.90139311  1.03396012  0.71297533  1.13031712]\n"
     ]
    }
   ],
   "source": [
    "# np.random.randn()\n",
    "# 표준 정규분포 안의 랜덤한 값으로 찬 주어진 형태의 배열을 반환한다.\n",
    "# return array of given shape filled with random value in standard normal distribution.\n",
    "a = np.random.randn(5)\n",
    "\n",
    "print(a)"
   ]
  },
  {
   "cell_type": "code",
   "execution_count": 5,
   "metadata": {},
   "outputs": [
    {
     "name": "stdout",
     "output_type": "stream",
     "text": [
      "1\n"
     ]
    }
   ],
   "source": [
    "# np.random.randint()\n",
    "# 주어진 범위 안에서 임의의 정수를 반환한다.\n",
    "# return random integer in given range.\n",
    "n = np.random.randint(5) # 0과 5 사이 // between 0 and 5\n",
    "\n",
    "print(n)"
   ]
  },
  {
   "cell_type": "code",
   "execution_count": 7,
   "metadata": {},
   "outputs": [
    {
     "name": "stdout",
     "output_type": "stream",
     "text": [
      "1\n"
     ]
    }
   ],
   "source": [
    "n1 = np.random.randint(-2, 10) # -2에서 10 사이 // between -2 to 10\n",
    "\n",
    "print(n1)"
   ]
  },
  {
   "cell_type": "code",
   "execution_count": 8,
   "metadata": {},
   "outputs": [
    {
     "name": "stdout",
     "output_type": "stream",
     "text": [
      "[[-2 -1 -5]\n",
      " [-4  2 -2]]\n"
     ]
    }
   ],
   "source": [
    "n2 = np.random.randint(-5, 5, size=(2,3), dtype=np.int64)\n",
    "# 반환되는 형태와 데이터 타입을 지정할 수 있다. // can set shape and dtype to return.\n",
    "\n",
    "print(n2)"
   ]
  },
  {
   "cell_type": "code",
   "execution_count": 3,
   "metadata": {},
   "outputs": [
    {
     "name": "stdout",
     "output_type": "stream",
     "text": [
      "2\n"
     ]
    }
   ],
   "source": [
    "# np.random.choice(1-d array, shape)\n",
    "# 1차원 배열에서 무작위로 값을 골라 반환한다.\n",
    "# choose random value in 1-d array and return it.\n",
    "n = np.random.choice(np.arange(10))\n",
    "\n",
    "print(n)"
   ]
  },
  {
   "cell_type": "code",
   "execution_count": 4,
   "metadata": {},
   "outputs": [
    {
     "name": "stdout",
     "output_type": "stream",
     "text": [
      "[[4 0 7]\n",
      " [2 1 0]]\n"
     ]
    }
   ],
   "source": [
    "a = np.random.choice(np.arange(10), (2,3))\n",
    "\n",
    "print(a)"
   ]
  },
  {
   "cell_type": "code",
   "execution_count": null,
   "metadata": {},
   "outputs": [],
   "source": []
  }
 ],
 "metadata": {
  "kernelspec": {
   "display_name": "AI",
   "language": "python",
   "name": "python3"
  },
  "language_info": {
   "codemirror_mode": {
    "name": "ipython",
    "version": 3
   },
   "file_extension": ".py",
   "mimetype": "text/x-python",
   "name": "python",
   "nbconvert_exporter": "python",
   "pygments_lexer": "ipython3",
   "version": "3.10.8 (main, Nov 24 2022, 08:09:04) [Clang 14.0.6 ]"
  },
  "orig_nbformat": 4,
  "vscode": {
   "interpreter": {
    "hash": "0f0ed69c08a8e206ba0f1cc166c3629e9f9774ceb6fc47d9c87f87e453960e77"
   }
  }
 },
 "nbformat": 4,
 "nbformat_minor": 2
}

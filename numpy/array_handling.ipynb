{
 "cells": [
  {
   "attachments": {},
   "cell_type": "markdown",
   "metadata": {},
   "source": [
    "# **Array handling**"
   ]
  },
  {
   "cell_type": "code",
   "execution_count": 2,
   "metadata": {},
   "outputs": [],
   "source": [
    "import numpy as np"
   ]
  },
  {
   "cell_type": "code",
   "execution_count": 3,
   "metadata": {},
   "outputs": [
    {
     "name": "stdout",
     "output_type": "stream",
     "text": [
      "(5, 5)\n",
      "2\n",
      "float64\n"
     ]
    }
   ],
   "source": [
    "# 배열 정보 얻기\n",
    "# get information of array\n",
    "arr = np.eye(5)\n",
    "\n",
    "print(arr.shape)\n",
    "print(arr.ndim)\n",
    "print(arr.dtype)"
   ]
  },
  {
   "cell_type": "code",
   "execution_count": 4,
   "metadata": {},
   "outputs": [
    {
     "name": "stdout",
     "output_type": "stream",
     "text": [
      "[1 2 4 5]\n"
     ]
    }
   ],
   "source": [
    "# 배열 정렬\n",
    "# sort array\n",
    "arr = np.array([2, 5, 1, 4])\n",
    "\n",
    "print(np.sort(arr))"
   ]
  },
  {
   "cell_type": "code",
   "execution_count": 5,
   "metadata": {},
   "outputs": [
    {
     "name": "stdout",
     "output_type": "stream",
     "text": [
      "[1 2 1 2 3 1 2 3 4 3 4 5]\n",
      "[1 2 3 4 5]\n"
     ]
    }
   ],
   "source": [
    "# 중복된 원소의 제거\n",
    "# remove duplicate elements\n",
    "arr = np.array([1, 2, 1, 2, 3, 1, 2, 3, 4, 3, 4, 5])\n",
    "print(arr)\n",
    "\n",
    "arr = np.unique(arr)\n",
    "print(arr)"
   ]
  },
  {
   "attachments": {},
   "cell_type": "markdown",
   "metadata": {},
   "source": [
    "## Reshape"
   ]
  },
  {
   "cell_type": "code",
   "execution_count": 6,
   "metadata": {},
   "outputs": [
    {
     "name": "stdout",
     "output_type": "stream",
     "text": [
      "(10,)\n"
     ]
    }
   ],
   "source": [
    "arr = np.arange(10)\n",
    "\n",
    "print(np.shape(arr))"
   ]
  },
  {
   "cell_type": "code",
   "execution_count": 7,
   "metadata": {},
   "outputs": [
    {
     "name": "stdout",
     "output_type": "stream",
     "text": [
      "[[0 1 2 3 4]\n",
      " [5 6 7 8 9]]\n"
     ]
    }
   ],
   "source": [
    "# np.reshape(array, shape), ndarray.reshape(shape)\n",
    "# 배열을 원하는 형태로 바꾼다.\n",
    "# change shape of array.\n",
    "arr1 = np.reshape(arr, (2,5))\n",
    "\n",
    "print(arr1)"
   ]
  },
  {
   "cell_type": "code",
   "execution_count": 8,
   "metadata": {},
   "outputs": [
    {
     "name": "stdout",
     "output_type": "stream",
     "text": [
      "[[0 1 2 3 4]\n",
      " [5 6 7 8 9]]\n"
     ]
    }
   ],
   "source": [
    "arr2 = arr.reshape((2,5))\n",
    "\n",
    "print(arr2)"
   ]
  },
  {
   "cell_type": "code",
   "execution_count": 9,
   "metadata": {},
   "outputs": [
    {
     "name": "stdout",
     "output_type": "stream",
     "text": [
      "[[0 1]\n",
      " [2 3]\n",
      " [4 5]\n",
      " [6 7]\n",
      " [8 9]]\n"
     ]
    }
   ],
   "source": [
    "arr3 = np.reshape(arr, (-1, 2))\n",
    "\n",
    "print(arr3)\n",
    "# -1을 사용하면 나머지 값을 자동으로 잡아준다. // using -1 set the other value automatically."
   ]
  },
  {
   "cell_type": "code",
   "execution_count": 10,
   "metadata": {},
   "outputs": [
    {
     "name": "stdout",
     "output_type": "stream",
     "text": [
      "[[0 1 2 3 4]\n",
      " [5 6 7 8 9]]\n"
     ]
    }
   ],
   "source": [
    "# ndarray.shape = shape\n",
    "arr = np.arange(10)\n",
    "arr.shape = (2,5)\n",
    "\n",
    "print(arr)"
   ]
  },
  {
   "cell_type": "code",
   "execution_count": 11,
   "metadata": {},
   "outputs": [
    {
     "name": "stdout",
     "output_type": "stream",
     "text": [
      "[[0 1 2 3 4]\n",
      " [5 6 7 8 9]]\n"
     ]
    }
   ],
   "source": [
    "# np.resize(), ndarray.resize()\n",
    "arr = np.arange(10)\n",
    "arr1 = np.resize(arr, (2,5))\n",
    "\n",
    "print(arr1)"
   ]
  },
  {
   "cell_type": "code",
   "execution_count": 12,
   "metadata": {},
   "outputs": [
    {
     "name": "stdout",
     "output_type": "stream",
     "text": [
      "None\n"
     ]
    }
   ],
   "source": [
    "arr2 = arr.resize((2,5))\n",
    "\n",
    "print(arr2)\n",
    "# reshape와 달리 ndarray.resize()는 값을 반환하지 않는다. // ndarray.resize not return values."
   ]
  },
  {
   "cell_type": "code",
   "execution_count": 13,
   "metadata": {},
   "outputs": [
    {
     "name": "stdout",
     "output_type": "stream",
     "text": [
      "[[0 1 2 3 4]\n",
      " [5 6 7 8 9]]\n"
     ]
    }
   ],
   "source": [
    "arr.resize((2, 5))\n",
    "\n",
    "print(arr)"
   ]
  },
  {
   "cell_type": "code",
   "execution_count": 14,
   "metadata": {},
   "outputs": [
    {
     "name": "stdout",
     "output_type": "stream",
     "text": [
      "[[0 1 2]\n",
      " [3 4 5]\n",
      " [6 7 8]]\n"
     ]
    }
   ],
   "source": [
    "arr = np.arange(10)\n",
    "\n",
    "arr1 = np.resize(arr, (3,3))\n",
    "print(arr1)\n",
    "# resize는 reshape와 달리 원소의 개수에 변화가 있어도 자동으로 처리한다. // result of resize can have different number of elements from before not like reshape."
   ]
  },
  {
   "cell_type": "code",
   "execution_count": 15,
   "metadata": {},
   "outputs": [
    {
     "name": "stdout",
     "output_type": "stream",
     "text": [
      "[[0 1 2]\n",
      " [3 4 0]\n",
      " [1 2 3]]\n"
     ]
    }
   ],
   "source": [
    "arr = np.arange(5)\n",
    "\n",
    "arr2 = np.resize(arr, (3,3))\n",
    "print(arr2)\n",
    "# 원소가 부족할 경우 반복 // if element not enough, iter."
   ]
  },
  {
   "cell_type": "code",
   "execution_count": 16,
   "metadata": {},
   "outputs": [
    {
     "name": "stdout",
     "output_type": "stream",
     "text": [
      "[[1 2 3]\n",
      " [4 5 6]\n",
      " [7 8 9]]\n"
     ]
    }
   ],
   "source": [
    "# np.transpose(), ndarray.transpose(), ndarray.T\n",
    "# 배열의 행과 열을 바꾼다.\n",
    "# change cols and rows of array.\n",
    "arr = np.arange(1,10)\n",
    "arr.resize((3,3))\n",
    "\n",
    "print(arr)"
   ]
  },
  {
   "cell_type": "code",
   "execution_count": 17,
   "metadata": {},
   "outputs": [
    {
     "name": "stdout",
     "output_type": "stream",
     "text": [
      "[[1 4 7]\n",
      " [2 5 8]\n",
      " [3 6 9]]\n"
     ]
    }
   ],
   "source": [
    "arr1 = np.transpose(arr)\n",
    "\n",
    "print(arr1)"
   ]
  },
  {
   "cell_type": "code",
   "execution_count": 18,
   "metadata": {},
   "outputs": [
    {
     "name": "stdout",
     "output_type": "stream",
     "text": [
      "[[1 4 7]\n",
      " [2 5 8]\n",
      " [3 6 9]]\n"
     ]
    }
   ],
   "source": [
    "arr2 = arr.transpose()\n",
    "\n",
    "print(arr2)"
   ]
  },
  {
   "cell_type": "code",
   "execution_count": 19,
   "metadata": {},
   "outputs": [
    {
     "name": "stdout",
     "output_type": "stream",
     "text": [
      "[[1 4 7]\n",
      " [2 5 8]\n",
      " [3 6 9]]\n"
     ]
    }
   ],
   "source": [
    "arr3 = arr.T\n",
    "\n",
    "print(arr3)"
   ]
  },
  {
   "cell_type": "code",
   "execution_count": 20,
   "metadata": {},
   "outputs": [
    {
     "name": "stdout",
     "output_type": "stream",
     "text": [
      "[[1 2 3]\n",
      " [4 5 6]]\n"
     ]
    }
   ],
   "source": [
    "# ndarray.flatten()\n",
    "# 배열을 일차원 배열로 만들어 반환한다.\n",
    "# return 1-d array.\n",
    "arr = np.array([[1, 2, 3], [4, 5, 6]])\n",
    "\n",
    "print(arr)"
   ]
  },
  {
   "cell_type": "code",
   "execution_count": 21,
   "metadata": {},
   "outputs": [
    {
     "name": "stdout",
     "output_type": "stream",
     "text": [
      "[1 2 3 4 5 6]\n"
     ]
    }
   ],
   "source": [
    "arr1 = arr.flatten()\n",
    "\n",
    "print(arr1)"
   ]
  },
  {
   "cell_type": "code",
   "execution_count": 22,
   "metadata": {},
   "outputs": [
    {
     "name": "stdout",
     "output_type": "stream",
     "text": [
      "[1 4 2 5 3 6]\n"
     ]
    }
   ],
   "source": [
    "arr2 = arr.flatten('F')\n",
    "\n",
    "print(arr2)\n",
    "# 열을 기준으로 정렬한다. // sort values using col."
   ]
  },
  {
   "cell_type": "code",
   "execution_count": 23,
   "metadata": {},
   "outputs": [
    {
     "name": "stdout",
     "output_type": "stream",
     "text": [
      "[[[1]\n",
      "  [2]]\n",
      "\n",
      " [[3]\n",
      "  [4]]]\n",
      "(2, 2, 1)\n"
     ]
    }
   ],
   "source": [
    "# np.squeeze()\n",
    "# shape에 1이 있을 경우 1차원을 축소한다.\n",
    "# reduce 1 dimension, if shape has 1.\n",
    "arr = np.array([[[1],[2]],[[3],[4]]])\n",
    "print(arr)\n",
    "print(arr.shape)"
   ]
  },
  {
   "cell_type": "code",
   "execution_count": 24,
   "metadata": {},
   "outputs": [
    {
     "name": "stdout",
     "output_type": "stream",
     "text": [
      "[[1 2]\n",
      " [3 4]]\n",
      "(2, 2)\n"
     ]
    }
   ],
   "source": [
    "arr1 = np.squeeze(arr)\n",
    "\n",
    "print(arr1)\n",
    "print(arr1.shape)"
   ]
  },
  {
   "cell_type": "code",
   "execution_count": 25,
   "metadata": {},
   "outputs": [
    {
     "name": "stdout",
     "output_type": "stream",
     "text": [
      "[1 2]\n",
      "(2,)\n"
     ]
    }
   ],
   "source": [
    "# np.expand_dims()\n",
    "# 배열의 차원을 확장한다.\n",
    "# expand dimension of array.\n",
    "arr = np.array([1,2])\n",
    "\n",
    "print(arr)\n",
    "print(arr.shape)"
   ]
  },
  {
   "cell_type": "code",
   "execution_count": 26,
   "metadata": {},
   "outputs": [
    {
     "name": "stdout",
     "output_type": "stream",
     "text": [
      "[[1 2]]\n",
      "(1, 2)\n",
      "[[1]\n",
      " [2]]\n",
      "(2, 1)\n"
     ]
    }
   ],
   "source": [
    "arr1 = np.expand_dims(arr, axis=0)\n",
    "arr2 = np.expand_dims(arr, axis=1)\n",
    "\n",
    "print(arr1)\n",
    "print(arr1.shape)\n",
    "print(arr2)\n",
    "print(arr2.shape)"
   ]
  },
  {
   "attachments": {},
   "cell_type": "markdown",
   "metadata": {},
   "source": [
    "## combine"
   ]
  },
  {
   "cell_type": "code",
   "execution_count": 27,
   "metadata": {},
   "outputs": [
    {
     "name": "stdout",
     "output_type": "stream",
     "text": [
      "[0 0 0]\n",
      "[1 1 1]\n",
      "[2 2 2]\n"
     ]
    }
   ],
   "source": [
    "# np.stack()\n",
    "# 새로운 축을 기준으로 배열을 합친다.\n",
    "# combine arrays along to new axis.\n",
    "arr1 = np.zeros(3, dtype=np.uint8)\n",
    "arr2 = np.ones(3, dtype=np.uint8)\n",
    "arr3 = np.full(3, 2)\n",
    "\n",
    "print(arr1)\n",
    "print(arr2)\n",
    "print(arr3)\n",
    "# stack을 사용하려면 shape가 동일해야 한다. // to use stack, shape should be same."
   ]
  },
  {
   "cell_type": "code",
   "execution_count": 28,
   "metadata": {},
   "outputs": [
    {
     "name": "stdout",
     "output_type": "stream",
     "text": [
      "[[0 0 0]\n",
      " [1 1 1]\n",
      " [2 2 2]]\n"
     ]
    }
   ],
   "source": [
    "arr = np.stack([arr1, arr2, arr3])\n",
    "\n",
    "print(arr)"
   ]
  },
  {
   "cell_type": "code",
   "execution_count": 29,
   "metadata": {},
   "outputs": [
    {
     "name": "stdout",
     "output_type": "stream",
     "text": [
      "[[0 1 2]\n",
      " [0 1 2]\n",
      " [0 1 2]]\n"
     ]
    }
   ],
   "source": [
    "arr = np.stack([arr1, arr2, arr3], axis=1)\n",
    "\n",
    "print(arr)\n",
    "# 축을 지정할 수 있다. // can set axis."
   ]
  },
  {
   "cell_type": "code",
   "execution_count": 30,
   "metadata": {},
   "outputs": [
    {
     "name": "stdout",
     "output_type": "stream",
     "text": [
      "[[0 1 2]\n",
      " [0 1 2]\n",
      " [0 1 2]]\n"
     ]
    }
   ],
   "source": [
    "arr = np.stack([arr1, arr2, arr3], axis=-1)\n",
    "\n",
    "print(arr)\n",
    "# -1을 사용하면 마지막 축을 지정한다. // if use -1, set last axis."
   ]
  },
  {
   "cell_type": "code",
   "execution_count": 31,
   "metadata": {},
   "outputs": [
    {
     "name": "stdout",
     "output_type": "stream",
     "text": [
      "[[1 1 1]\n",
      " [2 2 2]]\n"
     ]
    }
   ],
   "source": [
    "# np.vstack()\n",
    "# 배열을 행 기준으로 결합한다.\n",
    "# stack array row wise.\n",
    "arr1 = [1, 1, 1]\n",
    "arr2 = [2, 2, 2]\n",
    "\n",
    "arr = np.vstack([arr1, arr2])\n",
    "print(arr)"
   ]
  },
  {
   "cell_type": "code",
   "execution_count": 32,
   "metadata": {},
   "outputs": [
    {
     "name": "stdout",
     "output_type": "stream",
     "text": [
      "[[1 1 1]\n",
      " [1 1 1]\n",
      " [2 2 2]]\n"
     ]
    }
   ],
   "source": [
    "arr1 = np.ones((2,3), dtype=np.uint8)\n",
    "arr2 = [2, 2, 2]\n",
    "\n",
    "arr = np.vstack([arr1, arr2])\n",
    "print(arr)\n",
    "# 1차원과 2차원 배열도 결합할 수 있다. // can stack 1-d and 2-d arrays."
   ]
  },
  {
   "cell_type": "code",
   "execution_count": 33,
   "metadata": {},
   "outputs": [
    {
     "name": "stdout",
     "output_type": "stream",
     "text": [
      "[1 1 2 2]\n"
     ]
    }
   ],
   "source": [
    "# np.hstack()\n",
    "# 배열을 열 기준으로 결합한다.\n",
    "# stack array col wise.\n",
    "arr1 = [1, 1]\n",
    "arr2 = [2, 2]\n",
    "\n",
    "arr = np.hstack([arr1, arr2])\n",
    "print(arr)"
   ]
  },
  {
   "cell_type": "code",
   "execution_count": 34,
   "metadata": {},
   "outputs": [
    {
     "name": "stdout",
     "output_type": "stream",
     "text": [
      "[[1 1 3]\n",
      " [2 2 4]]\n"
     ]
    }
   ],
   "source": [
    "arr1 = [[1, 1], [2, 2]]\n",
    "arr2 = [[3], [4]]\n",
    "\n",
    "arr = np.hstack([arr1, arr2])\n",
    "print(arr)"
   ]
  },
  {
   "cell_type": "code",
   "execution_count": 35,
   "metadata": {},
   "outputs": [
    {
     "name": "stdout",
     "output_type": "stream",
     "text": [
      "[[[0. 1.]\n",
      "  [0. 1.]\n",
      "  [0. 1.]]\n",
      "\n",
      " [[0. 1.]\n",
      "  [0. 1.]\n",
      "  [0. 1.]]]\n",
      "(2, 3, 2)\n"
     ]
    }
   ],
   "source": [
    "# np.dstack()\n",
    "# 배열을 깊이 방향으로 결합한다.\n",
    "# stack array depth wise.\n",
    "arr1 = np.zeros((2,3))\n",
    "arr2 = np.ones((2,3))\n",
    "\n",
    "arr = np.dstack([arr1, arr2])\n",
    "print(arr)\n",
    "print(arr.shape)"
   ]
  },
  {
   "cell_type": "code",
   "execution_count": 36,
   "metadata": {},
   "outputs": [
    {
     "name": "stdout",
     "output_type": "stream",
     "text": [
      "[[[1 2]\n",
      "  [1 2]\n",
      "  [1 2]]]\n",
      "(1, 3, 2)\n"
     ]
    }
   ],
   "source": [
    "arr1 = [1, 1, 1]\n",
    "arr2 = [2, 2, 2]\n",
    "\n",
    "arr = np.dstack([arr1, arr2])\n",
    "print(arr)\n",
    "print(arr.shape)\n",
    "# 1차원 배열도 3차원 배열로 합쳐진다. // 1-d array combined be 3-d array."
   ]
  },
  {
   "cell_type": "code",
   "execution_count": 37,
   "metadata": {},
   "outputs": [
    {
     "name": "stdout",
     "output_type": "stream",
     "text": [
      "[[0. 0. 0.]\n",
      " [0. 0. 0.]\n",
      " [1. 1. 1.]\n",
      " [1. 1. 1.]]\n"
     ]
    }
   ],
   "source": [
    "# np.concatenate()\n",
    "# 배열을 하나로 합친다.\n",
    "# combine arrays.\n",
    "arr1 = np.zeros((2,3))\n",
    "arr2 = np.ones((2,3))\n",
    "\n",
    "arr = np.concatenate([arr1, arr2])\n",
    "print(arr)\n",
    "# 같은 차원의 배열만 합칠 수 있다. // can combine same dimension array only."
   ]
  },
  {
   "cell_type": "code",
   "execution_count": 38,
   "metadata": {},
   "outputs": [
    {
     "name": "stdout",
     "output_type": "stream",
     "text": [
      "[[0. 0. 0. 1. 1. 1.]\n",
      " [0. 0. 0. 1. 1. 1.]]\n"
     ]
    }
   ],
   "source": [
    "arr = np.concatenate([arr1, arr2], axis=1)\n",
    "\n",
    "print(arr)\n",
    "# 축을 지정할 수 있다. // can set axis.\n",
    "# 결합 축 이외의 형태는 동일해야한다. // shape except axis should be same."
   ]
  },
  {
   "cell_type": "code",
   "execution_count": 39,
   "metadata": {},
   "outputs": [
    {
     "name": "stdout",
     "output_type": "stream",
     "text": [
      "[[0. 0. 0.]\n",
      " [0. 0. 0.]]\n",
      "[[1. 1. 1.]\n",
      " [1. 1. 1.]]\n"
     ]
    }
   ],
   "source": [
    "# np.block()\n",
    "# 형태를 지정해서 배열을 결합한다.\n",
    "# combine array in given shape.\n",
    "arr1 = np.zeros((2,3))\n",
    "arr2 = np.ones((2,3))\n",
    "\n",
    "print(arr1)\n",
    "print(arr2)\n"
   ]
  },
  {
   "cell_type": "code",
   "execution_count": 40,
   "metadata": {},
   "outputs": [
    {
     "name": "stdout",
     "output_type": "stream",
     "text": [
      "[[0. 0. 0. 1. 1. 1.]\n",
      " [0. 0. 0. 1. 1. 1.]]\n"
     ]
    }
   ],
   "source": [
    "arr = np.block([arr1, arr2])\n",
    "\n",
    "print(arr)"
   ]
  },
  {
   "cell_type": "code",
   "execution_count": 41,
   "metadata": {},
   "outputs": [
    {
     "name": "stdout",
     "output_type": "stream",
     "text": [
      "[[0. 0. 0.]\n",
      " [0. 0. 0.]\n",
      " [1. 1. 1.]\n",
      " [1. 1. 1.]]\n"
     ]
    }
   ],
   "source": [
    "arr = np.block([[arr1], [arr2]])\n",
    "\n",
    "print(arr)"
   ]
  },
  {
   "cell_type": "code",
   "execution_count": 42,
   "metadata": {},
   "outputs": [
    {
     "name": "stdout",
     "output_type": "stream",
     "text": [
      "[[0. 0. 0. 1. 1. 1.]\n",
      " [0. 0. 0. 1. 1. 1.]\n",
      " [1. 1. 1. 0. 0. 0.]\n",
      " [1. 1. 1. 0. 0. 0.]]\n"
     ]
    }
   ],
   "source": [
    "arr = np.block([[arr1, arr2], [arr2, arr1]])\n",
    "\n",
    "print(arr)"
   ]
  },
  {
   "cell_type": "code",
   "execution_count": 43,
   "metadata": {},
   "outputs": [
    {
     "name": "stdout",
     "output_type": "stream",
     "text": [
      "[[[0. 0. 0.]\n",
      "  [0. 0. 0.]]\n",
      "\n",
      " [[1. 1. 1.]\n",
      "  [1. 1. 1.]]]\n"
     ]
    }
   ],
   "source": [
    "arr = np.block([[[arr1]], [[arr2]]])\n",
    "\n",
    "print(arr)"
   ]
  },
  {
   "cell_type": "code",
   "execution_count": 44,
   "metadata": {},
   "outputs": [
    {
     "name": "stdout",
     "output_type": "stream",
     "text": [
      "[[0. 0. 0. 1. 1. 1.]\n",
      " [0. 0. 0. 1. 1. 1.]\n",
      " [0. 1. 2. 3. 4. 5.]]\n"
     ]
    }
   ],
   "source": [
    "arr3 = np.arange(6)\n",
    "\n",
    "arr = np.block([[arr1, arr2], [arr3]])\n",
    "\n",
    "print(arr)"
   ]
  },
  {
   "cell_type": "code",
   "execution_count": null,
   "metadata": {},
   "outputs": [],
   "source": []
  }
 ],
 "metadata": {
  "kernelspec": {
   "display_name": "AI",
   "language": "python",
   "name": "python3"
  },
  "language_info": {
   "codemirror_mode": {
    "name": "ipython",
    "version": 3
   },
   "file_extension": ".py",
   "mimetype": "text/x-python",
   "name": "python",
   "nbconvert_exporter": "python",
   "pygments_lexer": "ipython3",
   "version": "3.10.9"
  },
  "orig_nbformat": 4,
  "vscode": {
   "interpreter": {
    "hash": "0f0ed69c08a8e206ba0f1cc166c3629e9f9774ceb6fc47d9c87f87e453960e77"
   }
  }
 },
 "nbformat": 4,
 "nbformat_minor": 2
}

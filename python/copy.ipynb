{
 "cells": [
  {
   "attachments": {},
   "cell_type": "markdown",
   "metadata": {},
   "source": [
    "# **Copy**"
   ]
  },
  {
   "cell_type": "code",
   "execution_count": 2,
   "metadata": {},
   "outputs": [
    {
     "name": "stdout",
     "output_type": "stream",
     "text": [
      "10\n",
      "hello world\n",
      "(1, 2)\n"
     ]
    }
   ],
   "source": [
    "num_ = 10\n",
    "str_ = 'hello world'\n",
    "tup_ = (1, 2)\n",
    "\n",
    "cnum = num_\n",
    "cstr = str_\n",
    "ctup = tup_\n",
    "\n",
    "print(cnum)\n",
    "print(cstr)\n",
    "print(ctup)"
   ]
  },
  {
   "cell_type": "code",
   "execution_count": 3,
   "metadata": {},
   "outputs": [
    {
     "name": "stdout",
     "output_type": "stream",
     "text": [
      "[1, 2, 3, 4]\n"
     ]
    }
   ],
   "source": [
    "# 가변 객체의 경우 (리스트, 딕셔너리, 집합)\n",
    "# in case of mutable (list, dictionary, set)\n",
    "arr1 = [1, 2, 3]\n",
    "arr2 = arr1\n",
    "\n",
    "arr1.append(4)\n",
    "print(arr2)\n",
    "# 복사해서 새로운 리스트를 만든 것이 아닌 주소를 참조한 것이기 때문에 arr1을 수정해도 arr2가 변경된다.\n",
    "# not make new list but just refer to memory address, if change only arr1, arr2 also changed."
   ]
  },
  {
   "cell_type": "code",
   "execution_count": 4,
   "metadata": {},
   "outputs": [
    {
     "name": "stdout",
     "output_type": "stream",
     "text": [
      "[1, 2, 3]\n"
     ]
    }
   ],
   "source": [
    "arr1 = [1, 2, 3]\n",
    "arr2 = arr1[:]\n",
    "\n",
    "arr1.append(4)\n",
    "print(arr2)\n",
    "# [:]을 사용하면 어느 정도 방지할 수 있다. // if use [:] can prevent it to some extent. "
   ]
  },
  {
   "cell_type": "code",
   "execution_count": 6,
   "metadata": {},
   "outputs": [
    {
     "name": "stdout",
     "output_type": "stream",
     "text": [
      "[1, 2, 3, [4, 6]]\n"
     ]
    }
   ],
   "source": [
    "arr1 = [1, 2, 3, [4, 5]]\n",
    "arr2 = arr1[:]\n",
    "\n",
    "arr1[3][1] = 6\n",
    "print(arr2)\n",
    "# 리스트 안에 가변객체가 있을 경우 그 객체는 여전히 변하는걸 확인 // if list has mutable, that object still change."
   ]
  },
  {
   "cell_type": "code",
   "execution_count": 7,
   "metadata": {},
   "outputs": [
    {
     "name": "stdout",
     "output_type": "stream",
     "text": [
      "[1, 2, 3, [8, 6]]\n"
     ]
    }
   ],
   "source": [
    "arr3 = arr1.copy()\n",
    "\n",
    "arr1[0] = 7\n",
    "arr1[3][0] = 8\n",
    "print(arr3)\n",
    "# .copy()도 [:]와 동일한 결과 // .copy() also result same with [:]."
   ]
  },
  {
   "cell_type": "code",
   "execution_count": 8,
   "metadata": {},
   "outputs": [
    {
     "name": "stdout",
     "output_type": "stream",
     "text": [
      "[1, [4, 3]]\n",
      "[1, [2, 3]]\n"
     ]
    }
   ],
   "source": [
    "# 이를 막기 위해서는 copy 패키지의 deepcopy를 사용한다.\n",
    "# to prevent it use deepcopy from copy package.\n",
    "import copy\n",
    "\n",
    "arr1 = [1, [2, 3]]\n",
    "arr2 = copy.deepcopy(arr1)\n",
    "\n",
    "arr1[1][0] = 4\n",
    "\n",
    "print(arr1)\n",
    "print(arr2)"
   ]
  },
  {
   "cell_type": "code",
   "execution_count": null,
   "metadata": {},
   "outputs": [],
   "source": []
  }
 ],
 "metadata": {
  "kernelspec": {
   "display_name": "AI",
   "language": "python",
   "name": "python3"
  },
  "language_info": {
   "codemirror_mode": {
    "name": "ipython",
    "version": 3
   },
   "file_extension": ".py",
   "mimetype": "text/x-python",
   "name": "python",
   "nbconvert_exporter": "python",
   "pygments_lexer": "ipython3",
   "version": "3.10.8"
  },
  "orig_nbformat": 4,
  "vscode": {
   "interpreter": {
    "hash": "0f0ed69c08a8e206ba0f1cc166c3629e9f9774ceb6fc47d9c87f87e453960e77"
   }
  }
 },
 "nbformat": 4,
 "nbformat_minor": 2
}

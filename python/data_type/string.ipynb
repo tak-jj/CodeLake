{
 "cells": [
  {
   "attachments": {},
   "cell_type": "markdown",
   "metadata": {},
   "source": [
    "# **String**\n"
   ]
  },
  {
   "cell_type": "code",
   "execution_count": 2,
   "metadata": {},
   "outputs": [
    {
     "name": "stdout",
     "output_type": "stream",
     "text": [
      "<class 'str'>\n"
     ]
    }
   ],
   "source": [
    "a = 'hello'\n",
    "\n",
    "print(type(a))"
   ]
  },
  {
   "cell_type": "code",
   "execution_count": 18,
   "metadata": {},
   "outputs": [
    {
     "name": "stdout",
     "output_type": "stream",
     "text": [
      "<class 'int'>\n",
      "<class 'str'>\n"
     ]
    }
   ],
   "source": [
    "# 문자열로 전환\n",
    "# change to string\n",
    "n1 = 10\n",
    "print(type(n1))\n",
    "\n",
    "s1 = str(n1)\n",
    "print(type(s1))"
   ]
  },
  {
   "cell_type": "code",
   "execution_count": 15,
   "metadata": {},
   "outputs": [
    {
     "name": "stdout",
     "output_type": "stream",
     "text": [
      "helloworld\n"
     ]
    }
   ],
   "source": [
    "# 문자열 연산\n",
    "# calculate string\n",
    "s1 = 'hello'\n",
    "s2 = 'world'\n",
    "\n",
    "print(s1 + s2)"
   ]
  },
  {
   "cell_type": "code",
   "execution_count": 16,
   "metadata": {},
   "outputs": [
    {
     "name": "stdout",
     "output_type": "stream",
     "text": [
      "hellohello\n"
     ]
    }
   ],
   "source": [
    "print(s1*2)"
   ]
  },
  {
   "cell_type": "code",
   "execution_count": 21,
   "metadata": {},
   "outputs": [
    {
     "name": "stdout",
     "output_type": "stream",
     "text": [
      "c\n"
     ]
    }
   ],
   "source": [
    "# 인덱스\n",
    "# index\n",
    "s1 = 'abccdefg'\n",
    "\n",
    "print(s1[2])"
   ]
  },
  {
   "cell_type": "code",
   "execution_count": 22,
   "metadata": {},
   "outputs": [
    {
     "name": "stdout",
     "output_type": "stream",
     "text": [
      "2\n"
     ]
    }
   ],
   "source": [
    "print(s1.index('c'))\n",
    "# 해당 값을 가진 첫번째 인덱스를 반환한다. // return first index has the value."
   ]
  },
  {
   "cell_type": "code",
   "execution_count": 2,
   "metadata": {},
   "outputs": [
    {
     "name": "stdout",
     "output_type": "stream",
     "text": [
      "abc\n",
      "fedcba\n"
     ]
    }
   ],
   "source": [
    "# 슬라이싱\n",
    "# slicing\n",
    "s1 = 'abcdef'\n",
    "\n",
    "print(s1[:3])\n",
    "print(s1[::-1]) # 문자열 뒤집기 // reverse string"
   ]
  },
  {
   "cell_type": "code",
   "execution_count": 23,
   "metadata": {},
   "outputs": [
    {
     "name": "stdout",
     "output_type": "stream",
     "text": [
      "6\n"
     ]
    }
   ],
   "source": [
    "# len()\n",
    "# 문자열의 길이\n",
    "# length of string\n",
    "s1 = 'abcdef'\n",
    "\n",
    "print(len(s1))"
   ]
  },
  {
   "cell_type": "code",
   "execution_count": 24,
   "metadata": {},
   "outputs": [
    {
     "name": "stdout",
     "output_type": "stream",
     "text": [
      "3\n"
     ]
    }
   ],
   "source": [
    "# .count()\n",
    "# 문자열 안에서 해당 값의 수를 반환한다.\n",
    "# return number of the value in string.\n",
    "sample = 'abcccde'\n",
    "\n",
    "print(sample.count('c'))"
   ]
  },
  {
   "cell_type": "code",
   "execution_count": 30,
   "metadata": {},
   "outputs": [
    {
     "name": "stdout",
     "output_type": "stream",
     "text": [
      "helloworld!!\n"
     ]
    }
   ],
   "source": [
    "# .join()\n",
    "words = ['hello', 'world', '!!']  # 반복 가능한 객체 // iterable object\n",
    "a = ''.join(words)\n",
    "\n",
    "print(a)"
   ]
  },
  {
   "cell_type": "code",
   "execution_count": 31,
   "metadata": {},
   "outputs": [
    {
     "name": "stdout",
     "output_type": "stream",
     "text": [
      "hello world !!\n"
     ]
    }
   ],
   "source": [
    "b = ' '.join(words)\n",
    "\n",
    "print(b)\n",
    "# 객체의 문자열 요소를 앞의 문자열을 사용해 이어서 반환한다. // connect string elements in iterable using string ahead."
   ]
  },
  {
   "cell_type": "code",
   "execution_count": 38,
   "metadata": {},
   "outputs": [
    {
     "name": "stdout",
     "output_type": "stream",
     "text": [
      "abcdabcd\n",
      "ABCDABCD\n"
     ]
    }
   ],
   "source": [
    "# .upper(), .lower()\n",
    "# 대소문자 변환\n",
    "# capital and small letter\n",
    "s1 = 'abcdABCD'\n",
    "\n",
    "small = s1.lower()\n",
    "capital = s1.upper()\n",
    "\n",
    "print(small)\n",
    "print(capital)\n"
   ]
  },
  {
   "cell_type": "code",
   "execution_count": 36,
   "metadata": {},
   "outputs": [
    {
     "name": "stdout",
     "output_type": "stream",
     "text": [
      "True\n",
      "True\n",
      "False\n"
     ]
    }
   ],
   "source": [
    "print(small.islower())\n",
    "print(capital.isupper())\n",
    "print(s1.islower())\n",
    "# 문자열 전체가 대문자 또는 소문자인지 확인 // check if entire string is capital letter or small letter."
   ]
  },
  {
   "cell_type": "code",
   "execution_count": 40,
   "metadata": {},
   "outputs": [
    {
     "name": "stdout",
     "output_type": "stream",
     "text": [
      "Hello world ae1be2ce3\n",
      "Hello World Ae1Be2Ce3\n"
     ]
    }
   ],
   "source": [
    "s2 = 'hello world ae1be2ce3'\n",
    "\n",
    "cap = s2.capitalize() \n",
    "# 문자열의 첫글자만 대문자로 변환 // change only first letter in string to capital letter.\n",
    "title = s2.title() \n",
    "# 문자열 내 단어의 첫글자를 대문자로 변환, 수나 특수문자가 들어가면 다른 단어로 취급\n",
    "# change first letters of words in string, if number or special character input, regard as other word.\n",
    "\n",
    "print(cap)\n",
    "print(title)"
   ]
  },
  {
   "cell_type": "code",
   "execution_count": 41,
   "metadata": {},
   "outputs": [
    {
     "name": "stdout",
     "output_type": "stream",
     "text": [
      "True\n",
      "True\n",
      "False\n",
      "False\n"
     ]
    }
   ],
   "source": [
    "# .isdigit(), .isalpha()\n",
    "# 문자열 내의 값이 숫자인지 문자인지 확인\n",
    "# check whether value in string is number or character.\n",
    "s1 = '1234'\n",
    "s2 = 'abcd'\n",
    "s3 = '!@#$'\n",
    "s4 = 'ab12'\n",
    "\n",
    "print(s1.isdigit())\n",
    "print(s2.isalpha())\n",
    "print(s3.isalpha()) \n",
    "# 특수문자는 False를 반환한다. // for special characters return False.\n",
    "print(s4.isdigit()) \n",
    "# 문자열 전체를 확인한다. // check entire string."
   ]
  },
  {
   "cell_type": "code",
   "execution_count": 43,
   "metadata": {},
   "outputs": [
    {
     "name": "stdout",
     "output_type": "stream",
     "text": [
      "ab cd\n"
     ]
    }
   ],
   "source": [
    "# .strip()\n",
    "# 문자열 앞뒤의 공백 또는 지정한 문자열을 제거\n",
    "# remove blank or specified string in front and back.\n",
    "s1 = '    ab cd   '\n",
    "\n",
    "print(s1.strip())"
   ]
  },
  {
   "cell_type": "code",
   "execution_count": 44,
   "metadata": {},
   "outputs": [
    {
     "name": "stdout",
     "output_type": "stream",
     "text": [
      "abcd\n"
     ]
    }
   ],
   "source": [
    "s2 = '___abcd__'\n",
    "\n",
    "print(s2.strip('_'))"
   ]
  },
  {
   "cell_type": "code",
   "execution_count": 46,
   "metadata": {},
   "outputs": [
    {
     "name": "stdout",
     "output_type": "stream",
     "text": [
      "___abcd\n",
      "abcd__\n"
     ]
    }
   ],
   "source": [
    "print(s2.rstrip('_'))\n",
    "print(s2.lstrip('_'))\n",
    "# 앞 또는 뒤만 지정해서 지울 수 있다. // can choose front or back to remove."
   ]
  },
  {
   "cell_type": "code",
   "execution_count": 48,
   "metadata": {},
   "outputs": [
    {
     "name": "stdout",
     "output_type": "stream",
     "text": [
      "Hello World !!\n"
     ]
    }
   ],
   "source": [
    "# .replace()\n",
    "# 문자열 안의 지정한 문자를 다른 문자로 전환\n",
    "# change specified character in string to other character.\n",
    "s1 = 'Hello,World,!!'\n",
    "\n",
    "print(s1.replace(',', ' '))"
   ]
  },
  {
   "cell_type": "code",
   "execution_count": 49,
   "metadata": {},
   "outputs": [
    {
     "name": "stdout",
     "output_type": "stream",
     "text": [
      "['hello', 'world']\n"
     ]
    }
   ],
   "source": [
    "# .spilt()\n",
    "# 특정 문자를 기준으로 문자열을 나누어 리스트를 반환한다.\n",
    "# split string using specified character and return list.\n",
    "s1 = 'hello world'\n",
    "\n",
    "print(s1.split()) \n",
    "# 입력값이 없으면 공백을 기준으로 문자열을 나눈다. // with no input, seperate using blank."
   ]
  },
  {
   "cell_type": "code",
   "execution_count": 50,
   "metadata": {},
   "outputs": [
    {
     "name": "stdout",
     "output_type": "stream",
     "text": [
      "['dog', 'cat', 'bird', 'fish', 'dragon']\n"
     ]
    }
   ],
   "source": [
    "s2 = 'dog,cat,bird,fish,dragon'\n",
    "\n",
    "print(s2.split(','))"
   ]
  },
  {
   "cell_type": "code",
   "execution_count": 52,
   "metadata": {},
   "outputs": [
    {
     "name": "stdout",
     "output_type": "stream",
     "text": [
      "('abcd', '/', 'efgh/ijkl')\n"
     ]
    }
   ],
   "source": [
    "# .partition()\n",
    "# 해당 값을 가진 첫문자를 기준으로 문자열을 셋으로 나눠 튜플을 반환한다.\n",
    "# split string in three part, before value, value input, after value and return tuple. only use first one.\n",
    "s1 = 'abcd/efgh/ijkl'\n",
    "\n",
    "print(s1.partition('/'))"
   ]
  },
  {
   "cell_type": "code",
   "execution_count": 57,
   "metadata": {},
   "outputs": [
    {
     "name": "stdout",
     "output_type": "stream",
     "text": [
      "['a', 'b', 'c', 'd', 'e', 'f']\n"
     ]
    }
   ],
   "source": [
    "# sorted()\n",
    "# 문자열을 정렬하여 리스트로 반환한다.\n",
    "# sort string and return in list.\n",
    "\n",
    "s1 = 'fcadeb'\n",
    "\n",
    "print(sorted(s1))"
   ]
  },
  {
   "cell_type": "code",
   "execution_count": 58,
   "metadata": {},
   "outputs": [
    {
     "name": "stdout",
     "output_type": "stream",
     "text": [
      "['f', 'e', 'd', 'c', 'b', 'a']\n"
     ]
    }
   ],
   "source": [
    "print(sorted(s1, reverse=True))"
   ]
  },
  {
   "cell_type": "code",
   "execution_count": 65,
   "metadata": {},
   "outputs": [
    {
     "name": "stdout",
     "output_type": "stream",
     "text": [
      "['!', '\"', '#', '$', '&', ',', '-', '1', '3', '4', 'a', 'b', 'c', 'd']\n"
     ]
    }
   ],
   "source": [
    "s2 = '1,ad-bc!\"&3$4#'\n",
    "\n",
    "print(sorted(s2)) \n",
    "# 특수문자, 숫자, 알파벳의 순서 // special characters, number, alphabet order"
   ]
  },
  {
   "cell_type": "code",
   "execution_count": 67,
   "metadata": {},
   "outputs": [
    {
     "name": "stdout",
     "output_type": "stream",
     "text": [
      "3\n"
     ]
    }
   ],
   "source": [
    "# eval()\n",
    "# 문자열 내의 수식을 계산하여 결과 값을 반환한다.\n",
    "# calculate fomula in string and return result.\n",
    "s1 = '1+2'\n",
    "\n",
    "print(eval(s1))"
   ]
  },
  {
   "cell_type": "code",
   "execution_count": 68,
   "metadata": {},
   "outputs": [
    {
     "name": "stdout",
     "output_type": "stream",
     "text": [
      "True\n"
     ]
    }
   ],
   "source": [
    "s2 = '3 > 1'\n",
    "\n",
    "print(eval(s2))"
   ]
  },
  {
   "cell_type": "code",
   "execution_count": null,
   "metadata": {},
   "outputs": [],
   "source": []
  }
 ],
 "metadata": {
  "kernelspec": {
   "display_name": "AI",
   "language": "python",
   "name": "python3"
  },
  "language_info": {
   "codemirror_mode": {
    "name": "ipython",
    "version": 3
   },
   "file_extension": ".py",
   "mimetype": "text/x-python",
   "name": "python",
   "nbconvert_exporter": "python",
   "pygments_lexer": "ipython3",
   "version": "3.10.8"
  },
  "orig_nbformat": 4,
  "vscode": {
   "interpreter": {
    "hash": "0f0ed69c08a8e206ba0f1cc166c3629e9f9774ceb6fc47d9c87f87e453960e77"
   }
  }
 },
 "nbformat": 4,
 "nbformat_minor": 2
}

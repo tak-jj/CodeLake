{
 "cells": [
  {
   "attachments": {},
   "cell_type": "markdown",
   "metadata": {},
   "source": [
    "# **IO**"
   ]
  },
  {
   "cell_type": "code",
   "execution_count": 2,
   "metadata": {},
   "outputs": [],
   "source": [
    "# 파일을 열고 입력하기\n",
    "# open file and write\n",
    "f = open('./test.txt', 'w', encoding='utf-8') \n",
    "# 파일이 존재하지 않으면 생성한다. 'w'는 쓰기 모드 // if file doesn't exist, create. 'w' means write mode\n",
    "f.write('hello world!')\n",
    "f.close()\n",
    "# 작업을 완료한 후에는 파일을 닫아 프로세스를 반납해야한다. // after done, should close file and return process."
   ]
  },
  {
   "cell_type": "code",
   "execution_count": 4,
   "metadata": {},
   "outputs": [
    {
     "name": "stdout",
     "output_type": "stream",
     "text": [
      "hello world!\n"
     ]
    }
   ],
   "source": [
    "# 파일을 열고 읽기\n",
    "# open file and read\n",
    "f = open('./test.txt', 'r', encoding='utf-8')\n",
    "# 'r'는 읽기 모드, 'r' means read mode\n",
    "print(f.read())\n",
    "f.close()"
   ]
  },
  {
   "cell_type": "code",
   "execution_count": 6,
   "metadata": {},
   "outputs": [
    {
     "name": "stdout",
     "output_type": "stream",
     "text": [
      "test print\n",
      "\n"
     ]
    }
   ],
   "source": [
    "# print()를 이용해 입력할 수 있다.\n",
    "# using print() can write.\n",
    "f = open('./test.txt', 'w', encoding='utf-8')\n",
    "print('test print', file=f)\n",
    "f.close()\n",
    "\n",
    "f = open('./test.txt', 'r', encoding='utf-8')\n",
    "print(f.read())\n",
    "f.close()"
   ]
  },
  {
   "cell_type": "code",
   "execution_count": 8,
   "metadata": {},
   "outputs": [
    {
     "name": "stdout",
     "output_type": "stream",
     "text": [
      "Not all those who\n",
      "wander are lost\n"
     ]
    }
   ],
   "source": [
    "# 'with'를 사용해 '.close()' 없이 프로세스를 반납할 수 있다.\n",
    "# use 'with', can return process without '.close()'\n",
    "with open('./test.txt', 'w', encoding='utf-8') as f:\n",
    "    f.write('Not all those who\\nwander are lost')\n",
    "\n",
    "with open('./test.txt', 'r', encoding='utf-8') as f:\n",
    "    print(f.read())"
   ]
  },
  {
   "cell_type": "code",
   "execution_count": null,
   "metadata": {},
   "outputs": [],
   "source": []
  }
 ],
 "metadata": {
  "kernelspec": {
   "display_name": "Python 3",
   "language": "python",
   "name": "python3"
  },
  "language_info": {
   "codemirror_mode": {
    "name": "ipython",
    "version": 3
   },
   "file_extension": ".py",
   "mimetype": "text/x-python",
   "name": "python",
   "nbconvert_exporter": "python",
   "pygments_lexer": "ipython3",
   "version": "3.10.8 (tags/v3.10.8:aaaf517, Oct 11 2022, 16:50:30) [MSC v.1933 64 bit (AMD64)]"
  },
  "orig_nbformat": 4,
  "vscode": {
   "interpreter": {
    "hash": "303a7a08249a5473dea6ff8636be56c985548da680474adfe7e313b1484f1de6"
   }
  }
 },
 "nbformat": 4,
 "nbformat_minor": 2
}

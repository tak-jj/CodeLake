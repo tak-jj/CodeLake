{
 "cells": [
  {
   "attachments": {},
   "cell_type": "markdown",
   "metadata": {},
   "source": [
    "# **Boolean operator**\n",
    "\n",
    ": 조건문에서 조건을 설정할 때 많이 사용한다. // often used in conditional when set condition."
   ]
  },
  {
   "cell_type": "code",
   "execution_count": 1,
   "metadata": {},
   "outputs": [
    {
     "name": "stdout",
     "output_type": "stream",
     "text": [
      "True\n",
      "False\n",
      "False\n",
      "True\n"
     ]
    }
   ],
   "source": [
    "# 비교 기호\n",
    "# comparision signs\n",
    "print(10 == 10)\n",
    "print(10 != 10)\n",
    "print(10 > 10)\n",
    "print(10 >= 10)"
   ]
  },
  {
   "cell_type": "code",
   "execution_count": 1,
   "metadata": {},
   "outputs": [
    {
     "name": "stdout",
     "output_type": "stream",
     "text": [
      "0\n",
      "0\n",
      "0\n",
      "1\n"
     ]
    }
   ],
   "source": [
    "# And, 모두 참일 시 True.\n",
    "# and, when all is True, return True.\n",
    "print(0 and 0)\n",
    "print(0 and 1)\n",
    "print(1 and 0)\n",
    "print(1 and 1)\n",
    "# usually 0 means False and 1 means True"
   ]
  },
  {
   "cell_type": "code",
   "execution_count": 2,
   "metadata": {},
   "outputs": [
    {
     "name": "stdout",
     "output_type": "stream",
     "text": [
      "0\n",
      "1\n",
      "1\n",
      "1\n"
     ]
    }
   ],
   "source": [
    "# Or, 하나라도 참일 시 True.\n",
    "# or, when any one is True, return True.\n",
    "print(0 or 0)\n",
    "print(0 or 1)\n",
    "print(1 or 0)\n",
    "print(1 or 1)"
   ]
  },
  {
   "cell_type": "code",
   "execution_count": 3,
   "metadata": {},
   "outputs": [
    {
     "name": "stdout",
     "output_type": "stream",
     "text": [
      "False\n",
      "True\n"
     ]
    }
   ],
   "source": [
    "# Not, 참일 경우 False, 거짓일 경우 True.\n",
    "# Not, return False when True, vice versa.\n",
    "print(not 1)\n",
    "print(not 0)"
   ]
  },
  {
   "cell_type": "code",
   "execution_count": 11,
   "metadata": {},
   "outputs": [
    {
     "name": "stdout",
     "output_type": "stream",
     "text": [
      "True\n",
      "False\n",
      "True\n",
      "False\n",
      "True\n",
      "False\n",
      "True\n",
      "False\n",
      "True\n",
      "False\n"
     ]
    }
   ],
   "source": [
    "# in, 문자열, 튜플, 리스트, 딕셔너리, 세트 등의 자료형이 해당 요소를 포함하는지 확인.\n",
    "# in, check if string, tuple, list, dictionary, set data type include specific element.\n",
    "a_str = 'abc'\n",
    "b_tup = ('a', 'b', 'c')\n",
    "c_list = ['a', 2, 'hello', 3]\n",
    "d_dic = {'a':1, 2:'b', 'c':'hello'}\n",
    "e_set = set(['a', 'b', 'c'])\n",
    "\n",
    "print('a' in a_str)\n",
    "print('1' in a_str)\n",
    "print('a' in b_tup)\n",
    "print(1 in b_tup)\n",
    "print('a' in c_list)\n",
    "print(1 in c_list)\n",
    "print('a' in d_dic)\n",
    "print('b' in d_dic) \n",
    "# 딕셔너리의 경우 키 값만 확인한다. // for dictionary, only check key values.\n",
    "print('a' in e_set)\n",
    "print(2 in e_set)"
   ]
  },
  {
   "cell_type": "code",
   "execution_count": null,
   "metadata": {},
   "outputs": [],
   "source": []
  }
 ],
 "metadata": {
  "kernelspec": {
   "display_name": "Python 3",
   "language": "python",
   "name": "python3"
  },
  "language_info": {
   "codemirror_mode": {
    "name": "ipython",
    "version": 3
   },
   "file_extension": ".py",
   "mimetype": "text/x-python",
   "name": "python",
   "nbconvert_exporter": "python",
   "pygments_lexer": "ipython3",
   "version": "3.10.8 (tags/v3.10.8:aaaf517, Oct 11 2022, 16:50:30) [MSC v.1933 64 bit (AMD64)]"
  },
  "orig_nbformat": 4,
  "vscode": {
   "interpreter": {
    "hash": "303a7a08249a5473dea6ff8636be56c985548da680474adfe7e313b1484f1de6"
   }
  }
 },
 "nbformat": 4,
 "nbformat_minor": 2
}

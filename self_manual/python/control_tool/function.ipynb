{
 "cells": [
  {
   "attachments": {},
   "cell_type": "markdown",
   "metadata": {},
   "source": [
    "# **Function**"
   ]
  },
  {
   "cell_type": "code",
   "execution_count": 1,
   "metadata": {},
   "outputs": [
    {
     "name": "stdout",
     "output_type": "stream",
     "text": [
      "My name is Son\n"
     ]
    }
   ],
   "source": [
    "# 함수 정의하기\n",
    "# define function\n",
    "def myName():\n",
    "    print('My name is Son')\n",
    "\n",
    "myName()"
   ]
  },
  {
   "cell_type": "code",
   "execution_count": 3,
   "metadata": {},
   "outputs": [
    {
     "name": "stdout",
     "output_type": "stream",
     "text": [
      "My name is Son\n",
      "My name is Kim\n"
     ]
    }
   ],
   "source": [
    "# 매개변수를 받기\n",
    "# get parameter\n",
    "def myName(name):\n",
    "    print('My name is', name)\n",
    "\n",
    "myName('Son')\n",
    "myName('Kim')"
   ]
  },
  {
   "cell_type": "code",
   "execution_count": 6,
   "metadata": {},
   "outputs": [
    {
     "name": "stdout",
     "output_type": "stream",
     "text": [
      "200\n"
     ]
    }
   ],
   "source": [
    "# 값을 반환하기\n",
    "# return value\n",
    "def multi(n1, n2):\n",
    "    result = n1*n2\n",
    "    return result\n",
    "\n",
    "result = multi(10,20)\n",
    "print(result)"
   ]
  },
  {
   "cell_type": "code",
   "execution_count": 8,
   "metadata": {},
   "outputs": [
    {
     "name": "stdout",
     "output_type": "stream",
     "text": [
      "6\n",
      "15\n"
     ]
    }
   ],
   "source": [
    "# 매개변수 기본값 설정\n",
    "# set defalut parameter value\n",
    "def double(n1, n2=2):\n",
    "    result = n1*n2\n",
    "    return result\n",
    "\n",
    "result = double(3)\n",
    "# 기본값이 있을 경우 입력하지 않으면 기본값으로 함수가 실행된다. // if default value exist, execute function with it when no value input.\n",
    "print(result)\n",
    "\n",
    "result = double(3,5)\n",
    "# 값을 입력할 경우 입력한 값으로 실행된다. // when value input, execute function with it.\n",
    "print(result)"
   ]
  },
  {
   "cell_type": "code",
   "execution_count": 2,
   "metadata": {},
   "outputs": [
    {
     "name": "stdout",
     "output_type": "stream",
     "text": [
      "1\n"
     ]
    }
   ],
   "source": [
    "# lambda\n",
    "# 이름 없는 함수를 만든다.\n",
    "# make nameless function.\n",
    "def combine(x, y):\n",
    "    return x + y\n",
    "\n",
    "lambda x, y: x + y\n",
    "# 동일한 함수\n",
    "# same function"
   ]
  },
  {
   "cell_type": "code",
   "execution_count": 3,
   "metadata": {},
   "outputs": [
    {
     "name": "stdout",
     "output_type": "stream",
     "text": [
      "30\n"
     ]
    }
   ],
   "source": [
    "print((lambda x, y: x + y)(10, 20))"
   ]
  },
  {
   "cell_type": "code",
   "execution_count": 5,
   "metadata": {},
   "outputs": [
    {
     "name": "stdout",
     "output_type": "stream",
     "text": [
      "30\n"
     ]
    }
   ],
   "source": [
    "f = lambda x, y: x + y\n",
    "print(f(10, 20))"
   ]
  },
  {
   "cell_type": "code",
   "execution_count": null,
   "metadata": {},
   "outputs": [],
   "source": []
  }
 ],
 "metadata": {
  "kernelspec": {
   "display_name": "AI",
   "language": "python",
   "name": "python3"
  },
  "language_info": {
   "codemirror_mode": {
    "name": "ipython",
    "version": 3
   },
   "file_extension": ".py",
   "mimetype": "text/x-python",
   "name": "python",
   "nbconvert_exporter": "python",
   "pygments_lexer": "ipython3",
   "version": "3.10.8"
  },
  "orig_nbformat": 4,
  "vscode": {
   "interpreter": {
    "hash": "0f0ed69c08a8e206ba0f1cc166c3629e9f9774ceb6fc47d9c87f87e453960e77"
   }
  }
 },
 "nbformat": 4,
 "nbformat_minor": 2
}

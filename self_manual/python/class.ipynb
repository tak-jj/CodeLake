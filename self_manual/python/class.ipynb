{
 "cells": [
  {
   "attachments": {},
   "cell_type": "markdown",
   "metadata": {},
   "source": [
    "# **Class**"
   ]
  },
  {
   "cell_type": "code",
   "execution_count": 12,
   "metadata": {},
   "outputs": [],
   "source": [
    "# 클래스 만들기\n",
    "# create class\n",
    "class person:\n",
    "    name = 'Default Name' # 속성 // property\n",
    "\n",
    "    def printName(self):\n",
    "        print('My name is {}'.format(self.name))"
   ]
  },
  {
   "cell_type": "code",
   "execution_count": 13,
   "metadata": {},
   "outputs": [
    {
     "name": "stdout",
     "output_type": "stream",
     "text": [
      "My name is Default Name\n"
     ]
    }
   ],
   "source": [
    "# 인스턴스 만들기\n",
    "# make instance\n",
    "son = person()\n",
    "son.printName()"
   ]
  },
  {
   "cell_type": "code",
   "execution_count": 14,
   "metadata": {},
   "outputs": [
    {
     "name": "stdout",
     "output_type": "stream",
     "text": [
      "My name is Son\n"
     ]
    }
   ],
   "source": [
    "# 인스턴스 속성 변경\n",
    "# change property of instance\n",
    "son.name = 'Son'\n",
    "son.printName()"
   ]
  },
  {
   "cell_type": "code",
   "execution_count": 15,
   "metadata": {},
   "outputs": [
    {
     "name": "stdout",
     "output_type": "stream",
     "text": [
      "Default Job\n"
     ]
    }
   ],
   "source": [
    "# 클래스 속성 추가\n",
    "# add property to class\n",
    "person.job = 'Default Job'\n",
    "print(son.job)\n",
    "# 클래스 속성이 추가되면 이미 생성된 인스턴스에도 속성이 추가된다. // once property added to class, instance pre-created also get that property."
   ]
  },
  {
   "cell_type": "code",
   "execution_count": 17,
   "metadata": {},
   "outputs": [],
   "source": [
    "# 생성자와 소멸자\n",
    "# constructor and distructor\n",
    "class MyClass:\n",
    "    def __init__(self, value):\n",
    "        self.Value = value\n",
    "        print('Instance is created! Value =',value)\n",
    "    # 생성자, 인스턴스가 생성될 때 실행 // constructor, execute when instance created\n",
    "    def __del__(self):\n",
    "        print('Instance is deleted')\n",
    "    # 소멸자, 인스턴스가 소멸될 때 실행 // distructor, execute when instance deleted"
   ]
  },
  {
   "cell_type": "code",
   "execution_count": 18,
   "metadata": {},
   "outputs": [
    {
     "name": "stdout",
     "output_type": "stream",
     "text": [
      "Instance is created! Value = 1\n",
      "1\n"
     ]
    }
   ],
   "source": [
    "p1 = MyClass(1)\n",
    "# 인스턴스를 만들 때 생성자의 매개변수를 입력한다. // when make instance, input parameter of constructor.\n",
    "print(p1.Value)"
   ]
  },
  {
   "cell_type": "code",
   "execution_count": 19,
   "metadata": {},
   "outputs": [
    {
     "name": "stdout",
     "output_type": "stream",
     "text": [
      "Instance is deleted\n"
     ]
    }
   ],
   "source": [
    "del p1"
   ]
  },
  {
   "cell_type": "code",
   "execution_count": 23,
   "metadata": {},
   "outputs": [],
   "source": [
    "# 정적 메소드\n",
    "# static method\n",
    "\n",
    "class CounetManager:\n",
    "    insCount = 0\n",
    "\n",
    "    def __init__(self):\n",
    "        CounetManager.insCount += 1\n",
    "        # self.insCount가 아닌 클래스의 속성에 연결 // connected property of class not self.\n",
    "        self.insCount = 1\n",
    "\n",
    "    def printInstanceCount():\n",
    "        print('Instance Count:', CounetManager.insCount)"
   ]
  },
  {
   "cell_type": "code",
   "execution_count": 24,
   "metadata": {},
   "outputs": [],
   "source": [
    "a, b, c = CounetManager(), CounetManager(), CounetManager() "
   ]
  },
  {
   "cell_type": "code",
   "execution_count": 26,
   "metadata": {},
   "outputs": [
    {
     "name": "stdout",
     "output_type": "stream",
     "text": [
      "1\n",
      "Instance Count: 3\n"
     ]
    }
   ],
   "source": [
    "print(a.insCount)\n",
    "CounetManager.printInstanceCount()"
   ]
  },
  {
   "cell_type": "code",
   "execution_count": 16,
   "metadata": {},
   "outputs": [
    {
     "name": "stdout",
     "output_type": "stream",
     "text": [
      "Instance is deleted\n",
      "True\n",
      "True\n",
      "True\n"
     ]
    }
   ],
   "source": [
    "# 클래스의 상속\n",
    "# inheritance of class\n",
    "class human:\n",
    "    pass\n",
    "\n",
    "class student(human):\n",
    "    pass\n",
    "# 클래스를 생성할 때 상속받을 클래스를 매개변수로 넣는다. // when create class, put class to inherit as parameter.\n",
    "\n",
    "p1 = human()\n",
    "p2 = student()\n",
    "\n",
    "print(isinstance(p1, human)) # isinstance(i, class), i가 class의 인스턴스인지 확인. // check whether i is instance of class.\n",
    "print(isinstance(p2, student))\n",
    "print(isinstance(p2, human))"
   ]
  },
  {
   "cell_type": "code",
   "execution_count": null,
   "metadata": {},
   "outputs": [],
   "source": []
  }
 ],
 "metadata": {
  "kernelspec": {
   "display_name": "Python 3",
   "language": "python",
   "name": "python3"
  },
  "language_info": {
   "codemirror_mode": {
    "name": "ipython",
    "version": 3
   },
   "file_extension": ".py",
   "mimetype": "text/x-python",
   "name": "python",
   "nbconvert_exporter": "python",
   "pygments_lexer": "ipython3",
   "version": "3.10.8"
  },
  "orig_nbformat": 4,
  "vscode": {
   "interpreter": {
    "hash": "303a7a08249a5473dea6ff8636be56c985548da680474adfe7e313b1484f1de6"
   }
  }
 },
 "nbformat": 4,
 "nbformat_minor": 2
}

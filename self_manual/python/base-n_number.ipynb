{
 "cells": [
  {
   "attachments": {},
   "cell_type": "markdown",
   "metadata": {},
   "source": [
    "# **Base n number**"
   ]
  },
  {
   "cell_type": "code",
   "execution_count": 2,
   "metadata": {},
   "outputs": [
    {
     "name": "stdout",
     "output_type": "stream",
     "text": [
      "True\n",
      "True\n",
      "True\n"
     ]
    }
   ],
   "source": [
    "# 이진법, 8진법, 16진법의 표현\n",
    "# expressioin of binary, 8-base, 16-base number.\n",
    "print(42 == 0b101010) # 0b 이진법\n",
    "print(42 == 0o52) # 0o 8진법\n",
    "print(42 == 0x2a) # 0x 16진법"
   ]
  },
  {
   "cell_type": "code",
   "execution_count": 3,
   "metadata": {},
   "outputs": [
    {
     "name": "stdout",
     "output_type": "stream",
     "text": [
      "0b101010\n",
      "0o52\n",
      "0x2a\n"
     ]
    }
   ],
   "source": [
    "# 이진법, 8진법, 16진법으로 변환\n",
    "# change to binary, 8-base, 16-base number.\n",
    "print(bin(42))\n",
    "print(oct(42))\n",
    "print(hex(42))"
   ]
  },
  {
   "cell_type": "code",
   "execution_count": 7,
   "metadata": {},
   "outputs": [
    {
     "name": "stdout",
     "output_type": "stream",
     "text": [
      "42\n",
      "42\n",
      "42\n"
     ]
    }
   ],
   "source": [
    "# 10진법으로 변환\n",
    "# change to decimal number.\n",
    "print(int('0b101010', 2))\n",
    "print(int('0o52', 8))\n",
    "print(int('0x2a', 16))"
   ]
  },
  {
   "cell_type": "code",
   "execution_count": 10,
   "metadata": {},
   "outputs": [
    {
     "name": "stdout",
     "output_type": "stream",
     "text": [
      "101010\n",
      "52\n",
      "2a\n"
     ]
    }
   ],
   "source": [
    "# format()\n",
    "print(format(42, 'b'))\n",
    "print(format(42, 'o'))\n",
    "print(format(42, 'x'))"
   ]
  },
  {
   "cell_type": "code",
   "execution_count": 12,
   "metadata": {},
   "outputs": [
    {
     "name": "stdout",
     "output_type": "stream",
     "text": [
      "0b101010\n",
      "0o52\n",
      "0x2a\n"
     ]
    }
   ],
   "source": [
    "print(format(42, '#b'))\n",
    "print(format(42, '#o'))\n",
    "print(format(42, '#x'))"
   ]
  },
  {
   "cell_type": "code",
   "execution_count": 16,
   "metadata": {},
   "outputs": [
    {
     "name": "stdout",
     "output_type": "stream",
     "text": [
      "base-2: 101010, base-8: 52, base-16: 2a\n"
     ]
    }
   ],
   "source": [
    "print('base-2: {0:b}, base-8: {0:o}, base-16: {0:x}'.format(42))"
   ]
  },
  {
   "cell_type": "code",
   "execution_count": null,
   "metadata": {},
   "outputs": [],
   "source": []
  }
 ],
 "metadata": {
  "kernelspec": {
   "display_name": "AI",
   "language": "python",
   "name": "python3"
  },
  "language_info": {
   "codemirror_mode": {
    "name": "ipython",
    "version": 3
   },
   "file_extension": ".py",
   "mimetype": "text/x-python",
   "name": "python",
   "nbconvert_exporter": "python",
   "pygments_lexer": "ipython3",
   "version": "3.10.8"
  },
  "orig_nbformat": 4,
  "vscode": {
   "interpreter": {
    "hash": "0f0ed69c08a8e206ba0f1cc166c3629e9f9774ceb6fc47d9c87f87e453960e77"
   }
  }
 },
 "nbformat": 4,
 "nbformat_minor": 2
}

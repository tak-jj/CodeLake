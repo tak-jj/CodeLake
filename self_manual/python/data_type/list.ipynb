{
 "cells": [
  {
   "attachments": {},
   "cell_type": "markdown",
   "metadata": {},
   "source": [
    "# **List**"
   ]
  },
  {
   "cell_type": "code",
   "execution_count": 2,
   "metadata": {},
   "outputs": [
    {
     "name": "stdout",
     "output_type": "stream",
     "text": [
      "<class 'list'>\n"
     ]
    }
   ],
   "source": [
    "a_list = [1,2,3,4,5]\n",
    "\n",
    "print(type(a_list))"
   ]
  },
  {
   "cell_type": "code",
   "execution_count": 3,
   "metadata": {},
   "outputs": [
    {
     "name": "stdout",
     "output_type": "stream",
     "text": [
      "<class 'tuple'>\n",
      "<class 'list'>\n"
     ]
    }
   ],
   "source": [
    "# 리스트로 전환\n",
    "# change to list\n",
    "a = (1, 2, 3)\n",
    "print(type(a))\n",
    "\n",
    "a_list = list(a)\n",
    "print(type(a_list))"
   ]
  },
  {
   "cell_type": "code",
   "execution_count": 5,
   "metadata": {},
   "outputs": [
    {
     "name": "stdout",
     "output_type": "stream",
     "text": [
      "['1', '2', '3']\n"
     ]
    }
   ],
   "source": [
    "b = '123'\n",
    "b_list = list(b)\n",
    "\n",
    "print(b_list)"
   ]
  },
  {
   "cell_type": "code",
   "execution_count": 10,
   "metadata": {},
   "outputs": [
    {
     "name": "stdout",
     "output_type": "stream",
     "text": [
      "[1, 2, 3, 4, 5, 6]\n"
     ]
    }
   ],
   "source": [
    "# 리스트 연산\n",
    "# calculate list\n",
    "\n",
    "li1 = [1, 2, 3]\n",
    "li2 = [4, 5, 6]\n",
    "\n",
    "print(li1 + li2)"
   ]
  },
  {
   "cell_type": "code",
   "execution_count": 11,
   "metadata": {},
   "outputs": [
    {
     "name": "stdout",
     "output_type": "stream",
     "text": [
      "[1, 2, 3, 1, 2, 3]\n"
     ]
    }
   ],
   "source": [
    "print(li1*2)"
   ]
  },
  {
   "cell_type": "code",
   "execution_count": 12,
   "metadata": {},
   "outputs": [
    {
     "name": "stdout",
     "output_type": "stream",
     "text": [
      "1\n",
      "5\n"
     ]
    }
   ],
   "source": [
    "# 인덱스\n",
    "# index\n",
    "li = [1, 2, 3, 4, 5]\n",
    "\n",
    "print(li[0])\n",
    "print(li[-1]) \n",
    "# 음수를 입력하면 끝에서부터 셀 수 있다. // use negative can count from the end."
   ]
  },
  {
   "cell_type": "code",
   "execution_count": 13,
   "metadata": {},
   "outputs": [
    {
     "name": "stdout",
     "output_type": "stream",
     "text": [
      "1\n"
     ]
    }
   ],
   "source": [
    "print(li.index(2))\n",
    "# 해당 값을 가진 첫번째 인덱스를 반환한다. // return first index has the value."
   ]
  },
  {
   "cell_type": "code",
   "execution_count": 17,
   "metadata": {},
   "outputs": [
    {
     "name": "stdout",
     "output_type": "stream",
     "text": [
      "[1, 2]\n",
      "[4, 5]\n",
      "[1, 2, 3, 4, 5]\n",
      "[2, 3]\n",
      "[1, 3]\n",
      "[5, 4, 3, 2, 1]\n"
     ]
    }
   ],
   "source": [
    "# 슬라이싱\n",
    "# slicing\n",
    "li = [1, 2, 3, 4, 5]\n",
    "\n",
    "print(li[:2]) \n",
    "# 끝점은 포함하지 않는다. // not include end.\n",
    "print(li[3:])\n",
    "print(li[:])\n",
    "print(li[1:3])\n",
    "print(li[0:4:2]) \n",
    "# 시작, 끝, 간격을 지정할 수 있다. // [start:end:step]\n",
    "print(li[::-1]) \n",
    "# 배열 뒤집기 // reverse list"
   ]
  },
  {
   "cell_type": "code",
   "execution_count": 27,
   "metadata": {},
   "outputs": [
    {
     "name": "stdout",
     "output_type": "stream",
     "text": [
      "[5, 4, 3, 2, 1]\n"
     ]
    }
   ],
   "source": [
    "# .reverse()\n",
    "# 리스트를 뒤집는다.\n",
    "# reverse list.\n",
    "li = [1, 2, 3, 4, 5]\n",
    "\n",
    "li.reverse()\n",
    "print(li)"
   ]
  },
  {
   "cell_type": "code",
   "execution_count": 19,
   "metadata": {},
   "outputs": [
    {
     "name": "stdout",
     "output_type": "stream",
     "text": [
      "[1, 2, 3, 4]\n"
     ]
    }
   ],
   "source": [
    "# 리스트 요소 추가하기\n",
    "# add element to list\n",
    "li = [1, 2, 3]\n",
    "\n",
    "li.append(4) \n",
    "# 리스트 마지막에 요소를 추가한다. // add element to end of list.\n",
    "print(li)"
   ]
  },
  {
   "cell_type": "code",
   "execution_count": 20,
   "metadata": {},
   "outputs": [
    {
     "name": "stdout",
     "output_type": "stream",
     "text": [
      "[100, 2, 3, 4]\n"
     ]
    }
   ],
   "source": [
    "li[0] = 100 \n",
    "# 인덱스를 이용해 리스트 값을 변경할 수 있다. // can change value in list using index.\n",
    "print(li)"
   ]
  },
  {
   "cell_type": "code",
   "execution_count": 21,
   "metadata": {},
   "outputs": [
    {
     "name": "stdout",
     "output_type": "stream",
     "text": [
      "[100, 2, 30, 3, 4]\n"
     ]
    }
   ],
   "source": [
    "li.insert(2, 30)\n",
    "# 지정한 인덱스 위치에 요소를 추가한다. // add element index position.\n",
    "print(li)"
   ]
  },
  {
   "cell_type": "code",
   "execution_count": 18,
   "metadata": {},
   "outputs": [
    {
     "name": "stdout",
     "output_type": "stream",
     "text": [
      "5\n"
     ]
    }
   ],
   "source": [
    "# len()\n",
    "# 리스트의 길이\n",
    "# length of list\n",
    "li = [1, 2, 3, 4, 5]\n",
    "\n",
    "print(len(li))"
   ]
  },
  {
   "cell_type": "code",
   "execution_count": 2,
   "metadata": {},
   "outputs": [
    {
     "name": "stdout",
     "output_type": "stream",
     "text": [
      "15\n"
     ]
    }
   ],
   "source": [
    "# sum()\n",
    "# 리스트 요소의 합\n",
    "# sum of list elements\n",
    "li = [1, 2, 3, 4, 5]\n",
    "\n",
    "print(sum(li))"
   ]
  },
  {
   "cell_type": "code",
   "execution_count": 4,
   "metadata": {},
   "outputs": [
    {
     "name": "stdout",
     "output_type": "stream",
     "text": [
      "1 5\n"
     ]
    }
   ],
   "source": [
    "# min(), max()\n",
    "# 리스트 요소 중 최소, 최댓값\n",
    "# minimum and maximum value of list elements\n",
    "li = [1, 2, 3, 4, 5]\n",
    "\n",
    "print(min(li), max(li))"
   ]
  },
  {
   "cell_type": "code",
   "execution_count": 15,
   "metadata": {},
   "outputs": [
    {
     "name": "stdout",
     "output_type": "stream",
     "text": [
      "a c\n"
     ]
    }
   ],
   "source": [
    "li = ['a', 'b', 'c']\n",
    "\n",
    "print(min(li), max(li))\n",
    "# 리스트의 요소가 문자열만 있을 경우 오름차순으로 정렬했을 때 첫번째 값과 마지막 값을 반환한다.\n",
    "# for string, return first and last value when sorted."
   ]
  },
  {
   "cell_type": "code",
   "execution_count": 16,
   "metadata": {},
   "outputs": [
    {
     "name": "stdout",
     "output_type": "stream",
     "text": [
      "[0, 8] [3, 2]\n"
     ]
    }
   ],
   "source": [
    "li = [[1,5], [3,2], [0,8]]\n",
    "\n",
    "print(min(li), max(li))\n",
    "# 리스트의 요소가 리스트일 경우 리스트의 첫번째 값만을 비교한다.\n",
    "# when list is element of list, compare first value only."
   ]
  },
  {
   "cell_type": "code",
   "execution_count": 17,
   "metadata": {},
   "outputs": [
    {
     "name": "stdout",
     "output_type": "stream",
     "text": [
      "2\n"
     ]
    }
   ],
   "source": [
    "# .count()\n",
    "# 리스트 안에서 해당 값의 수를 반환한다.\n",
    "# return number of the value in list.\n",
    "li = [1, 2, 3, 3, 5]\n",
    "\n",
    "print(li.count(3))"
   ]
  },
  {
   "cell_type": "code",
   "execution_count": 18,
   "metadata": {},
   "outputs": [
    {
     "name": "stdout",
     "output_type": "stream",
     "text": [
      "[1, 2, 3, 5]\n"
     ]
    }
   ],
   "source": [
    "# .remove()\n",
    "# 리스트에서 해당 값을 가진 첫번째 요소를 제거한다.\n",
    "# remove first element which has the value.\n",
    "li = [1, 2, 3, 3, 5]\n",
    "\n",
    "li.remove(3) \n",
    "# 값을 반환하지 않는다. // no return\n",
    "print(li)"
   ]
  },
  {
   "cell_type": "code",
   "execution_count": 19,
   "metadata": {},
   "outputs": [
    {
     "name": "stdout",
     "output_type": "stream",
     "text": [
      "[1, 2, 3, 4]\n"
     ]
    }
   ],
   "source": [
    "# .pop()\n",
    "# 리스트의 마지막 요소를 제거하고 반환한다.\n",
    "# detach last element of list and return it.\n",
    "\n",
    "li = [1, 2, 3, 4, 5]\n",
    "\n",
    "li.pop()\n",
    "print(li)"
   ]
  },
  {
   "cell_type": "code",
   "execution_count": 20,
   "metadata": {},
   "outputs": [
    {
     "name": "stdout",
     "output_type": "stream",
     "text": [
      "5\n"
     ]
    }
   ],
   "source": [
    "li = [1, 2, 3, 4, 5]\n",
    "\n",
    "part_ = li.pop()\n",
    "print(part_)"
   ]
  },
  {
   "cell_type": "code",
   "execution_count": 24,
   "metadata": {},
   "outputs": [
    {
     "name": "stdout",
     "output_type": "stream",
     "text": [
      "[1, 2, 4, 5]\n"
     ]
    }
   ],
   "source": [
    "li = [1, 2, 3, 4, 5]\n",
    "\n",
    "li.pop(2)\n",
    "# 인덱스를 지정해 pop할 수 있다. // can specify index to pop.\n",
    "print(li)"
   ]
  },
  {
   "cell_type": "code",
   "execution_count": 25,
   "metadata": {},
   "outputs": [
    {
     "name": "stdout",
     "output_type": "stream",
     "text": [
      "[]\n"
     ]
    }
   ],
   "source": [
    "# .clear()\n",
    "# 배열 안의 요소를 전부 비운다.\n",
    "# empty list.\n",
    "li = [1, 2, 3, 4, 5]\n",
    "\n",
    "li.clear()\n",
    "print(li)"
   ]
  },
  {
   "cell_type": "code",
   "execution_count": 29,
   "metadata": {},
   "outputs": [
    {
     "name": "stdout",
     "output_type": "stream",
     "text": [
      "[1, 3, 5, 8, 9, 12]\n"
     ]
    }
   ],
   "source": [
    "# sorted(), .sort()\n",
    "# 리스트를 정렬한다.\n",
    "# sort list.\n",
    "li = [3, 1, 5, 12, 9, 8]\n",
    "\n",
    "print(sorted(li))"
   ]
  },
  {
   "cell_type": "code",
   "execution_count": 31,
   "metadata": {},
   "outputs": [
    {
     "name": "stdout",
     "output_type": "stream",
     "text": [
      "[12, 9, 8, 5, 3, 1]\n"
     ]
    }
   ],
   "source": [
    "print(sorted(li, reverse=True))"
   ]
  },
  {
   "cell_type": "code",
   "execution_count": 35,
   "metadata": {},
   "outputs": [
    {
     "name": "stdout",
     "output_type": "stream",
     "text": [
      "[3, 5, 1, 8, 9, 12]\n"
     ]
    }
   ],
   "source": [
    "print(sorted(li, key=lambda x: abs(x-4))) \n",
    "# key 매개변수를 사용해 정렬할 기준을 정할 수 있다. // using key parameter, can set method of sort.\n",
    "# key에는 함수를 입력, 함수에는 리스트의 각 요소가 입력된다. // key parameter get function, elements of list are input to function. "
   ]
  },
  {
   "cell_type": "code",
   "execution_count": 30,
   "metadata": {},
   "outputs": [
    {
     "name": "stdout",
     "output_type": "stream",
     "text": [
      "[1, 3, 5, 8, 9, 12]\n"
     ]
    }
   ],
   "source": [
    "li = [3, 1, 5, 12, 9, 8]\n",
    "\n",
    "li.sort()\n",
    "print(li)"
   ]
  },
  {
   "cell_type": "code",
   "execution_count": 37,
   "metadata": {},
   "outputs": [
    {
     "name": "stdout",
     "output_type": "stream",
     "text": [
      "[12, 9, 8, 5, 3, 1]\n"
     ]
    }
   ],
   "source": [
    "li.sort(reverse=True)\n",
    "print(li)"
   ]
  },
  {
   "cell_type": "code",
   "execution_count": 40,
   "metadata": {},
   "outputs": [
    {
     "name": "stdout",
     "output_type": "stream",
     "text": [
      "[3, 5, 1, 8, 9, 12]\n"
     ]
    }
   ],
   "source": [
    "li.sort(key=lambda x:(abs(x-4), x))\n",
    "print(li)"
   ]
  },
  {
   "cell_type": "code",
   "execution_count": null,
   "metadata": {},
   "outputs": [],
   "source": []
  }
 ],
 "metadata": {
  "kernelspec": {
   "display_name": "AI",
   "language": "python",
   "name": "python3"
  },
  "language_info": {
   "codemirror_mode": {
    "name": "ipython",
    "version": 3
   },
   "file_extension": ".py",
   "mimetype": "text/x-python",
   "name": "python",
   "nbconvert_exporter": "python",
   "pygments_lexer": "ipython3",
   "version": "3.10.8"
  },
  "orig_nbformat": 4,
  "vscode": {
   "interpreter": {
    "hash": "0f0ed69c08a8e206ba0f1cc166c3629e9f9774ceb6fc47d9c87f87e453960e77"
   }
  }
 },
 "nbformat": 4,
 "nbformat_minor": 2
}

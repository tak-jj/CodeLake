{
 "cells": [
  {
   "attachments": {},
   "cell_type": "markdown",
   "metadata": {},
   "source": [
    "# **Dictionary**"
   ]
  },
  {
   "cell_type": "code",
   "execution_count": 6,
   "metadata": {},
   "outputs": [
    {
     "name": "stdout",
     "output_type": "stream",
     "text": [
      "{1: 'a', 'b': [1, 2, 3], 'c': 3}\n",
      "<class 'dict'>\n"
     ]
    }
   ],
   "source": [
    "dic = {1: 'a', 'b':[1, 2, 3], 'c': 3}\n",
    "\n",
    "print(dic)\n",
    "print(type(dic))"
   ]
  },
  {
   "cell_type": "code",
   "execution_count": 7,
   "metadata": {},
   "outputs": [
    {
     "name": "stdout",
     "output_type": "stream",
     "text": [
      "[1, 2, 3]\n"
     ]
    }
   ],
   "source": [
    "# 검색\n",
    "# search\n",
    "print(dic['b'])\n",
    "# 키를 이용해서 접근 // can access using key"
   ]
  },
  {
   "cell_type": "code",
   "execution_count": 8,
   "metadata": {},
   "outputs": [
    {
     "name": "stdout",
     "output_type": "stream",
     "text": [
      "{1: 'a', 'b': [1, 2, 3], 'c': 10, 4: 'Hello World'}\n"
     ]
    }
   ],
   "source": [
    "# 추가\n",
    "# add new\n",
    "dic[4] = 'Hello World'\n",
    "dic['c'] = 10\n",
    "# 키를 이용해서 새로운 키:값을 추가하거나 기존의 값을 변경할 수 있다.\n",
    "# 키는 중복되어선 안된다. // cannot use same key.\n",
    "\n",
    "print(dic)"
   ]
  },
  {
   "cell_type": "code",
   "execution_count": 9,
   "metadata": {},
   "outputs": [
    {
     "name": "stdout",
     "output_type": "stream",
     "text": [
      "{'kim': 18, 'lee': 23, 'park': 31}\n"
     ]
    }
   ],
   "source": [
    "# zip()\n",
    "# zip()을 사용해 딕셔너리를 쉽게 만들 수 있다.\n",
    "# using zip() easily make dictionary.\n",
    "keys = ['kim', 'lee', 'park']\n",
    "values = [18, 23, 31]\n",
    "\n",
    "age_dict = {}\n",
    "for name, age in zip(keys, values):\n",
    "    age_dict[name] = age\n",
    "\n",
    "print(age_dict)\n"
   ]
  },
  {
   "cell_type": "code",
   "execution_count": 11,
   "metadata": {},
   "outputs": [
    {
     "name": "stdout",
     "output_type": "stream",
     "text": [
      "3\n"
     ]
    }
   ],
   "source": [
    "# len()\n",
    "# 딕셔너리의 항목 수를 반환한다.\n",
    "# return number of items in dictionary.\n",
    "dic = {1:'a', 2:'b', 3:'c'}\n",
    "\n",
    "print(len(dic))"
   ]
  },
  {
   "cell_type": "code",
   "execution_count": 10,
   "metadata": {},
   "outputs": [
    {
     "name": "stdout",
     "output_type": "stream",
     "text": [
      "[1, 2, 3]\n"
     ]
    }
   ],
   "source": [
    "# list()\n",
    "# 딕셔너리의 모든 키를 리스트로 반환한다.\n",
    "# return all keys in dictionary in list.\n",
    "dic = {1:'a', 2:'b', 3:'c'}\n",
    "\n",
    "print(list(dic))"
   ]
  },
  {
   "cell_type": "code",
   "execution_count": 13,
   "metadata": {},
   "outputs": [
    {
     "name": "stdout",
     "output_type": "stream",
     "text": [
      "dict_keys([1, 2, 3])\n",
      "dict_values(['a', 'b', 'c'])\n",
      "dict_items([(1, 'a'), (2, 'b'), (3, 'c')])\n"
     ]
    }
   ],
   "source": [
    "# view\n",
    "# 딕셔너리 항목에 대한 동적 뷰를 제공한다.\n",
    "# provide dynamic view on entries of dictionary.\n",
    "dic = {1:'a', 2:'b', 3:'c'}\n",
    "\n",
    "print(dic.keys())\n",
    "print(dic.values())\n",
    "print(dic.items())\n",
    "# 키, 값의 튜플을 반환한다. // return tuple (key, value).\n"
   ]
  },
  {
   "cell_type": "code",
   "execution_count": 15,
   "metadata": {},
   "outputs": [
    {
     "name": "stdout",
     "output_type": "stream",
     "text": [
      "{2: 'b', 3: 'c'}\n",
      "a\n"
     ]
    }
   ],
   "source": [
    "# .pop(key)\n",
    "# 키에 해당하는 항목을 제거하고 해당 키의 값을 반환한다.\n",
    "# remove key item and return value of key.\n",
    "dic = {1:'a', 2:'b', 3:'c'}\n",
    "\n",
    "a = dic.pop(1)\n",
    "print(dic)\n",
    "print(a)"
   ]
  },
  {
   "cell_type": "code",
   "execution_count": null,
   "metadata": {},
   "outputs": [],
   "source": []
  }
 ],
 "metadata": {
  "kernelspec": {
   "display_name": "AI",
   "language": "python",
   "name": "python3"
  },
  "language_info": {
   "codemirror_mode": {
    "name": "ipython",
    "version": 3
   },
   "file_extension": ".py",
   "mimetype": "text/x-python",
   "name": "python",
   "nbconvert_exporter": "python",
   "pygments_lexer": "ipython3",
   "version": "3.10.8"
  },
  "orig_nbformat": 4,
  "vscode": {
   "interpreter": {
    "hash": "0f0ed69c08a8e206ba0f1cc166c3629e9f9774ceb6fc47d9c87f87e453960e77"
   }
  }
 },
 "nbformat": 4,
 "nbformat_minor": 2
}

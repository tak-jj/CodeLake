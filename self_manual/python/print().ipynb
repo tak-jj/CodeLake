{
 "cells": [
  {
   "attachments": {},
   "cell_type": "markdown",
   "metadata": {},
   "source": [
    "# **Print**\n",
    "\n",
    ": 코드 중간중간 사용하여 진행 상황과 오류가 발생한 부분을 확인할 수 있다. // can check progress and where the error occur."
   ]
  },
  {
   "cell_type": "code",
   "execution_count": 1,
   "metadata": {},
   "outputs": [
    {
     "name": "stdout",
     "output_type": "stream",
     "text": [
      "Hello World\n"
     ]
    }
   ],
   "source": [
    "print('Hello World')"
   ]
  },
  {
   "cell_type": "code",
   "execution_count": 2,
   "metadata": {},
   "outputs": [
    {
     "name": "stdout",
     "output_type": "stream",
     "text": [
      "Hello \"World\"\n",
      "Hello 'World'\n"
     ]
    }
   ],
   "source": [
    "# 큰 따옴표, 작은 따옴표를 출력하기 위해서는 다른 따옴표를 사용한 후 안에 입력한다.\n",
    "# to print single or double quotation, first use the other and write in it.\n",
    "print('Hello \"World\"')\n",
    "print(\"Hello 'World'\")"
   ]
  },
  {
   "cell_type": "code",
   "execution_count": 3,
   "metadata": {},
   "outputs": [
    {
     "name": "stdout",
     "output_type": "stream",
     "text": [
      "Hello World\n",
      "HelloWorld\n"
     ]
    }
   ],
   "source": [
    "# 여러 문자열을 출력하기 위해서는 ',' 또는 '+'를 사용한다.\n",
    "# to print multiple stirngs, use ',' or '+'.\n",
    "print('Hello', 'World') \n",
    "# ','을 사용할 시 문자열 사이 공백이 입력된다. // when use ',' space is made between strings.\n",
    "print('Hello' + 'World')"
   ]
  },
  {
   "cell_type": "code",
   "execution_count": 1,
   "metadata": {},
   "outputs": [
    {
     "name": "stdout",
     "output_type": "stream",
     "text": [
      "\n",
      "All that is gold does not glitter,\n",
      "Not all those who wander are lost\n",
      "\n",
      "\n",
      "All that is gold does not glitter,\n",
      "Not all those who wander are lost\n",
      "\n"
     ]
    }
   ],
   "source": [
    "# 여러 줄의 문자열을 입력하기 위해서는 ''' 또는 \"\"\"을 사용한다.\n",
    "# to input multiple row string, use ''' or \"\"\".\n",
    "print('''\n",
    "All that is gold does not glitter,\n",
    "Not all those who wander are lost\n",
    "''')\n",
    "print(\"\"\"\n",
    "All that is gold does not glitter,\n",
    "Not all those who wander are lost\n",
    "\"\"\")"
   ]
  },
  {
   "cell_type": "code",
   "execution_count": 2,
   "metadata": {},
   "outputs": [
    {
     "name": "stdout",
     "output_type": "stream",
     "text": [
      "Hello\n",
      "World\n"
     ]
    }
   ],
   "source": [
    "# '\\n'을 사용해 줄을 바꿀 수 있다.\n",
    "# using '\\n' can change row.\n",
    "print('Hello\\nWorld')"
   ]
  },
  {
   "cell_type": "code",
   "execution_count": 3,
   "metadata": {},
   "outputs": [
    {
     "name": "stdout",
     "output_type": "stream",
     "text": [
      "\tHello World\n"
     ]
    }
   ],
   "source": [
    "# '\\t'를 사용해 탭을 입력할 수 있다.\n",
    "# using '\\t' can input tab.\n",
    "print('\\tHello World')"
   ]
  },
  {
   "cell_type": "code",
   "execution_count": 4,
   "metadata": {},
   "outputs": [
    {
     "name": "stdout",
     "output_type": "stream",
     "text": [
      "a = 123, b = Hello\n",
      "a = 123, b = Hello\n",
      "a = 123, b = Hello\n"
     ]
    }
   ],
   "source": [
    "# 문자열 안에 변수를 받기 위해서 '.format()' 또는 'f'를 사용한다.\n",
    "# to get variable in string, use '.format()' or 'f'.\n",
    "a = 123\n",
    "b = 'Hello'\n",
    "\n",
    "print('a = {}, b = {}'.format(a, b))\n",
    "print('a = {x}, b = {y}'.format(x=a, y=b))\n",
    "print(f'a = {a}, b = {b}')"
   ]
  },
  {
   "cell_type": "code",
   "execution_count": null,
   "metadata": {},
   "outputs": [],
   "source": []
  }
 ],
 "metadata": {
  "kernelspec": {
   "display_name": "Python 3",
   "language": "python",
   "name": "python3"
  },
  "language_info": {
   "codemirror_mode": {
    "name": "ipython",
    "version": 3
   },
   "file_extension": ".py",
   "mimetype": "text/x-python",
   "name": "python",
   "nbconvert_exporter": "python",
   "pygments_lexer": "ipython3",
   "version": "3.10.8 (tags/v3.10.8:aaaf517, Oct 11 2022, 16:50:30) [MSC v.1933 64 bit (AMD64)]"
  },
  "orig_nbformat": 4,
  "vscode": {
   "interpreter": {
    "hash": "303a7a08249a5473dea6ff8636be56c985548da680474adfe7e313b1484f1de6"
   }
  }
 },
 "nbformat": 4,
 "nbformat_minor": 2
}

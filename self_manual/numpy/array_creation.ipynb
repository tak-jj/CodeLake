{
 "cells": [
  {
   "attachments": {},
   "cell_type": "markdown",
   "metadata": {},
   "source": [
    "# **Array Creation**"
   ]
  },
  {
   "cell_type": "code",
   "execution_count": 2,
   "metadata": {},
   "outputs": [],
   "source": [
    "import numpy as np"
   ]
  },
  {
   "cell_type": "code",
   "execution_count": 2,
   "metadata": {},
   "outputs": [
    {
     "name": "stdout",
     "output_type": "stream",
     "text": [
      "[1 2 3 4]\n",
      "[[1 2]\n",
      " [3 4]]\n",
      "[[[1]\n",
      "  [2]]\n",
      "\n",
      " [[3]\n",
      "  [4]]\n",
      "\n",
      " [[5]\n",
      "  [6]]]\n"
     ]
    }
   ],
   "source": [
    "a1D = np.array([1, 2, 3, 4])\n",
    "a2D = np.array([[1, 2], [3, 4]])\n",
    "a3D = np.array([[[1],[2]],[[3],[4]],[[5],[6]]])\n",
    "\n",
    "print(a1D)\n",
    "print(a2D)\n",
    "print(a3D)"
   ]
  },
  {
   "attachments": {},
   "cell_type": "markdown",
   "metadata": {},
   "source": [
    "## 1-d array"
   ]
  },
  {
   "cell_type": "code",
   "execution_count": 8,
   "metadata": {},
   "outputs": [
    {
     "name": "stdout",
     "output_type": "stream",
     "text": [
      "[ 127 -128 -127]\n"
     ]
    }
   ],
   "source": [
    "a = np.array([127, 128, 129], dtype=np.int8)\n",
    "\n",
    "print(a)"
   ]
  },
  {
   "cell_type": "code",
   "execution_count": 4,
   "metadata": {},
   "outputs": [
    {
     "name": "stdout",
     "output_type": "stream",
     "text": [
      "[0 1 2 3 4]\n"
     ]
    }
   ],
   "source": [
    "# np.arange(start, end, step)\n",
    "# 1차원 배열을 생성한다. range()와 비슷\n",
    "# create 1-d array. similar to range()\n",
    "arr1 = np.arange(5)\n",
    "\n",
    "print(arr1)"
   ]
  },
  {
   "cell_type": "code",
   "execution_count": 6,
   "metadata": {},
   "outputs": [
    {
     "name": "stdout",
     "output_type": "stream",
     "text": [
      "[2 3 4]\n"
     ]
    }
   ],
   "source": [
    "arr2 = np.arange(2, 5)\n",
    "\n",
    "print(arr2)"
   ]
  },
  {
   "cell_type": "code",
   "execution_count": 7,
   "metadata": {},
   "outputs": [
    {
     "name": "stdout",
     "output_type": "stream",
     "text": [
      "[2 4 6 8]\n"
     ]
    }
   ],
   "source": [
    "arr3 = np.arange(2, 10, 2)\n",
    "\n",
    "print(arr3)"
   ]
  },
  {
   "cell_type": "code",
   "execution_count": 10,
   "metadata": {},
   "outputs": [
    {
     "name": "stdout",
     "output_type": "stream",
     "text": [
      "[0.    0.125 0.25  0.375 0.5   0.625 0.75  0.875 1.   ]\n"
     ]
    }
   ],
   "source": [
    "# np.linspace(start, end, number)\n",
    "# 주어진 범위를 지정한 개수로 나누어 1차원 배열을 생성한다.\n",
    "# split given range into specified number and create 1-d array.\n",
    "a = np.linspace(0, 1, 9)\n",
    "\n",
    "print(a)"
   ]
  },
  {
   "attachments": {},
   "cell_type": "markdown",
   "metadata": {},
   "source": [
    "## 2-d array"
   ]
  },
  {
   "cell_type": "code",
   "execution_count": 12,
   "metadata": {},
   "outputs": [
    {
     "name": "stdout",
     "output_type": "stream",
     "text": [
      "[[1. 0. 0.]\n",
      " [0. 1. 0.]\n",
      " [0. 0. 1.]]\n"
     ]
    }
   ],
   "source": [
    "# np.eye(n, m)\n",
    "# 2차원 배열을 생성한다.\n",
    "# create 2-d array.\n",
    "arr1 = np.eye(3)\n",
    "\n",
    "print(arr1)"
   ]
  },
  {
   "cell_type": "code",
   "execution_count": 13,
   "metadata": {},
   "outputs": [
    {
     "name": "stdout",
     "output_type": "stream",
     "text": [
      "[[1. 0. 0. 0. 0.]\n",
      " [0. 1. 0. 0. 0.]\n",
      " [0. 0. 1. 0. 0.]]\n"
     ]
    }
   ],
   "source": [
    "arr2 = np.eye(3, 5)\n",
    "\n",
    "print(arr2)\n",
    "# 행과 열이 같은 곳은 1 나머지는 0\n",
    "# if col index equal to row index 1, else 0"
   ]
  },
  {
   "cell_type": "code",
   "execution_count": 14,
   "metadata": {},
   "outputs": [
    {
     "name": "stdout",
     "output_type": "stream",
     "text": [
      "[[1 0 0]\n",
      " [0 2 0]\n",
      " [0 0 3]]\n"
     ]
    }
   ],
   "source": [
    "# np.diag(array)\n",
    "# 행과 열이 같은 곳에 입력한 리스트를 넣어 2차원 배열을 만든다.\n",
    "# make 2-d array and input list where col index equal to row index.\n",
    "\n",
    "arr1 = np.diag([1, 2, 3])\n",
    "\n",
    "print(arr1)"
   ]
  },
  {
   "cell_type": "code",
   "execution_count": 15,
   "metadata": {},
   "outputs": [
    {
     "name": "stdout",
     "output_type": "stream",
     "text": [
      "[[0 0 0 0]\n",
      " [1 0 0 0]\n",
      " [0 2 0 0]\n",
      " [0 0 3 0]]\n"
     ]
    }
   ],
   "source": [
    "arr2 = np.diag([1, 2, 3], -1)\n",
    "\n",
    "print(arr2)\n",
    "# 행이나 열 방향으로 이동할 수 있다. // can move to col or row direction."
   ]
  },
  {
   "cell_type": "code",
   "execution_count": 16,
   "metadata": {},
   "outputs": [
    {
     "name": "stdout",
     "output_type": "stream",
     "text": [
      "[[ 0.      0.      0.      0.      1.    ]\n",
      " [ 0.0625  0.125   0.25    0.5     1.    ]\n",
      " [ 1.      1.      1.      1.      1.    ]\n",
      " [ 5.0625  3.375   2.25    1.5     1.    ]\n",
      " [16.      8.      4.      2.      1.    ]]\n"
     ]
    }
   ],
   "source": [
    "# np.vander(list, n)\n",
    "# n개의 열을 가진 2차원 배열을 만든다. 마지막 열은 1, 두번째 열은 입력한 리스트가 들어간다. 나머지는 마지막 열과 두번째 열의 비율이 계속 곱해진다.\n",
    "# create 2-d array has n columns. last column is one and second from last is input list. rest of list filled with value multiflied ratio of last and second value.\n",
    "arr = np.vander(np.linspace(0, 2, 5), 5)\n",
    "\n",
    "print(arr)"
   ]
  },
  {
   "attachments": {},
   "cell_type": "markdown",
   "metadata": {},
   "source": [
    "## 3-d array"
   ]
  },
  {
   "cell_type": "code",
   "execution_count": 22,
   "metadata": {},
   "outputs": [
    {
     "name": "stdout",
     "output_type": "stream",
     "text": [
      "[0. 0. 0.]\n"
     ]
    }
   ],
   "source": [
    "# np.zeros(shape)\n",
    "# 0으로 가득 찬 배열을 만든다.\n",
    "# make array full of 0.\n",
    "arr1 = np.zeros(3)\n",
    "\n",
    "print(arr1)"
   ]
  },
  {
   "cell_type": "code",
   "execution_count": 24,
   "metadata": {},
   "outputs": [
    {
     "name": "stdout",
     "output_type": "stream",
     "text": [
      "[[0. 0. 0.]\n",
      " [0. 0. 0.]]\n"
     ]
    }
   ],
   "source": [
    "arr2 = np.zeros((2, 3))\n",
    "\n",
    "print(arr2)"
   ]
  },
  {
   "cell_type": "code",
   "execution_count": 25,
   "metadata": {},
   "outputs": [
    {
     "name": "stdout",
     "output_type": "stream",
     "text": [
      "[[[0. 0.]\n",
      "  [0. 0.]\n",
      "  [0. 0.]]\n",
      "\n",
      " [[0. 0.]\n",
      "  [0. 0.]\n",
      "  [0. 0.]]]\n"
     ]
    }
   ],
   "source": [
    "arr3 = np.zeros((2, 3, 2))\n",
    "\n",
    "print(arr3)"
   ]
  },
  {
   "cell_type": "code",
   "execution_count": 26,
   "metadata": {},
   "outputs": [
    {
     "name": "stdout",
     "output_type": "stream",
     "text": [
      "[[[1. 1.]\n",
      "  [1. 1.]\n",
      "  [1. 1.]]\n",
      "\n",
      " [[1. 1.]\n",
      "  [1. 1.]\n",
      "  [1. 1.]]]\n"
     ]
    }
   ],
   "source": [
    "# np.ones(shape)\n",
    "# 1로 가득찬 배열을 만든다.\n",
    "# make array full of 1.\n",
    "arr = np.ones((2,3,2))\n",
    "\n",
    "print(arr)"
   ]
  },
  {
   "cell_type": "code",
   "execution_count": 3,
   "metadata": {},
   "outputs": [
    {
     "name": "stdout",
     "output_type": "stream",
     "text": [
      "[[[-2.68156159e+154 -2.68156159e+154]\n",
      "  [ 3.95252517e-323  0.00000000e+000]\n",
      "  [ 0.00000000e+000  0.00000000e+000]]\n",
      "\n",
      " [[ 0.00000000e+000  0.00000000e+000]\n",
      "  [ 0.00000000e+000  0.00000000e+000]\n",
      "  [ 0.00000000e+000  0.00000000e+000]]]\n"
     ]
    }
   ],
   "source": [
    "# np.empty(shape)\n",
    "# 빈 값으로 가득찬 배열을 만든다.\n",
    "# make array full of empty value.\n",
    "arr = np.empty((2,3,2))\n",
    "\n",
    "print(arr)\n",
    "# 이전에 메모리를 사용하고 남은 데이터가 보인다. // can see remain data which used memory before."
   ]
  },
  {
   "cell_type": "code",
   "execution_count": 18,
   "metadata": {},
   "outputs": [
    {
     "name": "stdout",
     "output_type": "stream",
     "text": [
      "[[[5 5]\n",
      "  [5 5]\n",
      "  [5 5]]\n",
      "\n",
      " [[5 5]\n",
      "  [5 5]\n",
      "  [5 5]]]\n"
     ]
    }
   ],
   "source": [
    "# np.full(shape, fill_value)\n",
    "# 지정한 값으로 가득찬 배열을 만든다.\n",
    "# make array full of input value.\n",
    "arr = np.full((2,3,2), 5)\n",
    "\n",
    "print(arr)"
   ]
  },
  {
   "cell_type": "code",
   "execution_count": 4,
   "metadata": {},
   "outputs": [
    {
     "name": "stdout",
     "output_type": "stream",
     "text": [
      "[[0 0]\n",
      " [0 0]\n",
      " [0 0]]\n"
     ]
    }
   ],
   "source": [
    "# np.zeros_like(array)\n",
    "# 입력한 배열 형태로 0이 가득 찬 배열을 만든다.\n",
    "# make array full of 0 shape of input array.\n",
    "sample = np.array([[1,2],[3,4],[5,6]])\n",
    "\n",
    "arr = np.zeros_like(sample)\n",
    "print(arr)\n",
    "\n",
    "# zeros 외에 ones, empty, full 모두 동일하게 사용할 수 있다. // ones, empty, full all can use '_like'."
   ]
  },
  {
   "cell_type": "code",
   "execution_count": null,
   "metadata": {},
   "outputs": [],
   "source": []
  }
 ],
 "metadata": {
  "kernelspec": {
   "display_name": "AI",
   "language": "python",
   "name": "python3"
  },
  "language_info": {
   "codemirror_mode": {
    "name": "ipython",
    "version": 3
   },
   "file_extension": ".py",
   "mimetype": "text/x-python",
   "name": "python",
   "nbconvert_exporter": "python",
   "pygments_lexer": "ipython3",
   "version": "3.10.8 (main, Nov 24 2022, 08:09:04) [Clang 14.0.6 ]"
  },
  "orig_nbformat": 4,
  "vscode": {
   "interpreter": {
    "hash": "0f0ed69c08a8e206ba0f1cc166c3629e9f9774ceb6fc47d9c87f87e453960e77"
   }
  }
 },
 "nbformat": 4,
 "nbformat_minor": 2
}

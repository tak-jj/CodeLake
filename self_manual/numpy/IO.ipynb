{
 "cells": [
  {
   "attachments": {},
   "cell_type": "markdown",
   "metadata": {},
   "source": [
    "# **Numpy Input Output**\n",
    "\n",
    "https://numpy.org/doc/stable/reference/routines.io.html\n",
    "https://numpy.org/doc/stable/user/basics.io.genfromtxt.html\n",
    "https://numpy.org/doc/stable/user/how-to-io.html"
   ]
  },
  {
   "cell_type": "code",
   "execution_count": null,
   "metadata": {},
   "outputs": [],
   "source": []
  }
 ],
 "metadata": {
  "language_info": {
   "name": "python"
  },
  "orig_nbformat": 4
 },
 "nbformat": 4,
 "nbformat_minor": 2
}

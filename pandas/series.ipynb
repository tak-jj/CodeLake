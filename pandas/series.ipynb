{
 "cells": [
  {
   "attachments": {},
   "cell_type": "markdown",
   "metadata": {},
   "source": [
    "# **Series**"
   ]
  },
  {
   "cell_type": "code",
   "execution_count": 10,
   "metadata": {},
   "outputs": [],
   "source": [
    "import pandas as pd"
   ]
  },
  {
   "cell_type": "code",
   "execution_count": 11,
   "metadata": {},
   "outputs": [
    {
     "name": "stdout",
     "output_type": "stream",
     "text": [
      "apple     2500\n",
      "banana    3000\n",
      "peer      1200\n",
      "cherry     600\n",
      "dtype: int64\n"
     ]
    }
   ],
   "source": [
    "# Series 생성\n",
    "# Series creation\n",
    "price = pd.Series([2500, 3000, 1200, 600], index=['apple', 'banana', 'peer', 'cherry'])\n",
    "print(price)"
   ]
  },
  {
   "cell_type": "code",
   "execution_count": 12,
   "metadata": {},
   "outputs": [
    {
     "name": "stdout",
     "output_type": "stream",
     "text": [
      "apple     500\n",
      "banana    500\n",
      "peer      500\n",
      "cherry    500\n",
      "dtype: int64\n"
     ]
    }
   ],
   "source": [
    "price = pd.Series(500, index=['apple', 'banana', 'peer', 'cherry'])\n",
    "\n",
    "print(price)"
   ]
  },
  {
   "cell_type": "code",
   "execution_count": 13,
   "metadata": {},
   "outputs": [
    {
     "name": "stdout",
     "output_type": "stream",
     "text": [
      "apple     2500\n",
      "banana    3000\n",
      "peer      1200\n",
      "cherry     600\n",
      "dtype: int64\n"
     ]
    }
   ],
   "source": [
    "price_dict = {'apple':2500, 'banana':3000, 'peer':1200, 'cherry':600}\n",
    "price = pd.Series(price_dict)\n",
    "\n",
    "print(price)"
   ]
  },
  {
   "cell_type": "code",
   "execution_count": 14,
   "metadata": {},
   "outputs": [
    {
     "name": "stdout",
     "output_type": "stream",
     "text": [
      "apple     2500.0\n",
      "banana    3000.0\n",
      "peer      1200.0\n",
      "cherry     600.0\n",
      "orange       NaN\n",
      "dtype: float64\n"
     ]
    }
   ],
   "source": [
    "price = pd.Series(price_dict, index=['apple', 'banana', 'peer', 'cherry', 'orange'])\n",
    "# 시리즈 생성시 인덱스를 설정할 수 있다. 해당하는 값이 없을 경우 NaN으로 표시된다. // When create series can set index. If there's no matched value, display NaN.\n",
    "\n",
    "print(price)\n",
    "# 시리즈는 하나의 데이터형을 사용한다. NaN이 포함될 경우 float. // One Series uses one data type. If NaN is included use float."
   ]
  },
  {
   "cell_type": "code",
   "execution_count": 15,
   "metadata": {},
   "outputs": [
    {
     "name": "stdout",
     "output_type": "stream",
     "text": [
      "apple     2500.0\n",
      "banana    3000.0\n",
      "peer      1200.0\n",
      "cherry     600.0\n",
      "orange       NaN\n",
      "Name: Price, dtype: float64\n"
     ]
    }
   ],
   "source": [
    "# Series 이름 추가\n",
    "# add name to Series\n",
    "price.name = 'Price'\n",
    "\n",
    "print(price)"
   ]
  },
  {
   "cell_type": "code",
   "execution_count": 16,
   "metadata": {},
   "outputs": [
    {
     "name": "stdout",
     "output_type": "stream",
     "text": [
      "Product\n",
      "apple     2500.0\n",
      "banana    3000.0\n",
      "peer      1200.0\n",
      "cherry     600.0\n",
      "orange       NaN\n",
      "Name: Price, dtype: float64\n"
     ]
    }
   ],
   "source": [
    "price.index.name = 'Product'\n",
    "\n",
    "print(price)"
   ]
  },
  {
   "cell_type": "code",
   "execution_count": 17,
   "metadata": {},
   "outputs": [
    {
     "name": "stdout",
     "output_type": "stream",
     "text": [
      "[2500. 3000. 1200.  600.   nan]\n",
      "Index(['apple', 'banana', 'peer', 'cherry', 'orange'], dtype='object', name='Product')\n"
     ]
    }
   ],
   "source": [
    "# Series 정보 가져오기\n",
    "# get information of Series\n",
    "print(price.values)\n",
    "print(price.index)"
   ]
  },
  {
   "cell_type": "code",
   "execution_count": null,
   "metadata": {},
   "outputs": [],
   "source": []
  }
 ],
 "metadata": {
  "kernelspec": {
   "display_name": "AI",
   "language": "python",
   "name": "python3"
  },
  "language_info": {
   "codemirror_mode": {
    "name": "ipython",
    "version": 3
   },
   "file_extension": ".py",
   "mimetype": "text/x-python",
   "name": "python",
   "nbconvert_exporter": "python",
   "pygments_lexer": "ipython3",
   "version": "3.10.9"
  },
  "orig_nbformat": 4,
  "vscode": {
   "interpreter": {
    "hash": "0f0ed69c08a8e206ba0f1cc166c3629e9f9774ceb6fc47d9c87f87e453960e77"
   }
  }
 },
 "nbformat": 4,
 "nbformat_minor": 2
}

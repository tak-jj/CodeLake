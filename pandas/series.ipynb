{
 "cells": [
  {
   "attachments": {},
   "cell_type": "markdown",
   "metadata": {},
   "source": [
    "# **Series**"
   ]
  },
  {
   "cell_type": "code",
   "execution_count": 1,
   "metadata": {},
   "outputs": [],
   "source": [
    "import pandas as pd"
   ]
  },
  {
   "cell_type": "code",
   "execution_count": 2,
   "metadata": {},
   "outputs": [
    {
     "name": "stdout",
     "output_type": "stream",
     "text": [
      "apple     2500\n",
      "banana    3000\n",
      "peer      1200\n",
      "cherry     600\n",
      "dtype: int64\n"
     ]
    }
   ],
   "source": [
    "# Series 생성\n",
    "# Series creation\n",
    "price = pd.Series([2500, 3000, 1200, 600], index=['apple', 'banana', 'peer', 'cherry'])\n",
    "print(price)"
   ]
  },
  {
   "cell_type": "code",
   "execution_count": 3,
   "metadata": {},
   "outputs": [
    {
     "name": "stdout",
     "output_type": "stream",
     "text": [
      "apple     2500\n",
      "banana    3000\n",
      "peer      1200\n",
      "cherry     600\n",
      "dtype: int64\n"
     ]
    }
   ],
   "source": [
    "price_dict = {'apple':2500, 'banana':3000, 'peer':1200, 'cherry':600}\n",
    "price = pd.Series(price_dict)\n",
    "\n",
    "print(price)"
   ]
  },
  {
   "cell_type": "code",
   "execution_count": 4,
   "metadata": {},
   "outputs": [
    {
     "name": "stdout",
     "output_type": "stream",
     "text": [
      "apple     2500.0\n",
      "banana    3000.0\n",
      "peer      1200.0\n",
      "cherry     600.0\n",
      "orange       NaN\n",
      "dtype: float64\n"
     ]
    }
   ],
   "source": [
    "price = pd.Series(price_dict, index=['apple', 'banana', 'peer', 'cherry', 'orange'])\n",
    "\n",
    "print(price)"
   ]
  },
  {
   "cell_type": "code",
   "execution_count": 5,
   "metadata": {},
   "outputs": [
    {
     "name": "stdout",
     "output_type": "stream",
     "text": [
      "apple     500\n",
      "banana    500\n",
      "peer      500\n",
      "cherry    500\n",
      "dtype: int64\n"
     ]
    }
   ],
   "source": [
    "price = pd.Series(500, index=['apple', 'banana', 'peer', 'cherry'])\n",
    "\n",
    "print(price)"
   ]
  },
  {
   "cell_type": "code",
   "execution_count": 6,
   "metadata": {},
   "outputs": [
    {
     "name": "stdout",
     "output_type": "stream",
     "text": [
      "apple     500\n",
      "banana    500\n",
      "peer      500\n",
      "cherry    500\n",
      "Name: Price, dtype: int64\n"
     ]
    }
   ],
   "source": [
    "# Series 이름 추가\n",
    "# add name to Series\n",
    "price.name = 'Price'\n",
    "\n",
    "print(price)"
   ]
  },
  {
   "cell_type": "code",
   "execution_count": 7,
   "metadata": {},
   "outputs": [
    {
     "name": "stdout",
     "output_type": "stream",
     "text": [
      "Product\n",
      "apple     500\n",
      "banana    500\n",
      "peer      500\n",
      "cherry    500\n",
      "Name: Price, dtype: int64\n"
     ]
    }
   ],
   "source": [
    "price.index.name = 'Product'\n",
    "\n",
    "print(price)"
   ]
  },
  {
   "cell_type": "code",
   "execution_count": 8,
   "metadata": {},
   "outputs": [
    {
     "name": "stdout",
     "output_type": "stream",
     "text": [
      "[500 500 500 500]\n",
      "Index(['apple', 'banana', 'peer', 'cherry'], dtype='object', name='Product')\n"
     ]
    }
   ],
   "source": [
    "# Series 정보 가져오기\n",
    "# get information of Series\n",
    "print(price.values)\n",
    "print(price.index)"
   ]
  },
  {
   "cell_type": "code",
   "execution_count": null,
   "metadata": {},
   "outputs": [],
   "source": []
  }
 ],
 "metadata": {
  "kernelspec": {
   "display_name": "AI",
   "language": "python",
   "name": "python3"
  },
  "language_info": {
   "codemirror_mode": {
    "name": "ipython",
    "version": 3
   },
   "file_extension": ".py",
   "mimetype": "text/x-python",
   "name": "python",
   "nbconvert_exporter": "python",
   "pygments_lexer": "ipython3",
   "version": "3.10.8"
  },
  "orig_nbformat": 4,
  "vscode": {
   "interpreter": {
    "hash": "0f0ed69c08a8e206ba0f1cc166c3629e9f9774ceb6fc47d9c87f87e453960e77"
   }
  }
 },
 "nbformat": 4,
 "nbformat_minor": 2
}
